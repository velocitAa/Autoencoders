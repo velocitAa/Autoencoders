{
 "cells": [
  {
   "cell_type": "markdown",
   "id": "4c6c6155",
   "metadata": {},
   "source": [
    "## Создание VAE (+ исследование работы VAE (линейная реализация и на основе сверточных слоев) на различных входных данных и создание кастомного автоэнкодера), + использование сервиса wandb"
   ]
  },
  {
   "cell_type": "markdown",
   "id": "d908beff-9672-4c9f-a361-9c09f7bec139",
   "metadata": {},
   "source": [
    "#### Импортирование библиотек для дальнейшей работы"
   ]
  },
  {
   "cell_type": "code",
   "execution_count": 1,
   "id": "e9ad7be0",
   "metadata": {},
   "outputs": [],
   "source": [
    "import os \n",
    "os.environ['KMP_DUPLICATE_LIB_OK']='True'"
   ]
  },
  {
   "cell_type": "code",
   "execution_count": 106,
   "id": "ffe7bb4f",
   "metadata": {},
   "outputs": [],
   "source": [
    "import torch, torchvision\n",
    "from torch import nn\n",
    "import PIL\n",
    "from torch.nn import functional as F\n",
    "from torchvision import datasets, transforms\n",
    "\n",
    "import numpy as np\n",
    "import scipy.stats as stats\n",
    "\n",
    "import matplotlib.pyplot as plt \n",
    "from sklearn.decomposition import PCA\n",
    "from torchsummary import summary\n",
    "import seaborn as sns\n",
    "from torchvision.utils import save_image\n",
    "from torch.utils.data import Dataset\n",
    "from random import randint\n",
    "import random\n",
    "import pandas as pd\n",
    "from skimage import io\n",
    "\n",
    "from IPython.display import Image, display \n",
    "\n",
    "import tqdm\n",
    "import os\n",
    "import logging\n",
    "%matplotlib inline"
   ]
  },
  {
   "cell_type": "code",
   "execution_count": 74,
   "id": "600b063e",
   "metadata": {},
   "outputs": [],
   "source": [
    "import wandb\n"
   ]
  },
  {
   "cell_type": "code",
   "execution_count": 75,
   "id": "d02602c0",
   "metadata": {},
   "outputs": [
    {
     "name": "stderr",
     "output_type": "stream",
     "text": [
      "Failed to detect the name of this notebook, you can set it manually with the WANDB_NOTEBOOK_NAME environment variable to enable code saving.\n",
      "\u001b[34m\u001b[1mwandb\u001b[0m: Currently logged in as: \u001b[33mte200228\u001b[0m. Use \u001b[1m`wandb login --relogin`\u001b[0m to force relogin\n"
     ]
    },
    {
     "data": {
      "text/plain": [
       "True"
      ]
     },
     "execution_count": 75,
     "metadata": {},
     "output_type": "execute_result"
    }
   ],
   "source": [
    "wandb.login()"
   ]
  },
  {
   "cell_type": "markdown",
   "id": "3815df07",
   "metadata": {},
   "source": [
    "#### Проверяем, что видеокарта подключена успешно"
   ]
  },
  {
   "cell_type": "code",
   "execution_count": 8,
   "id": "9a117023",
   "metadata": {},
   "outputs": [],
   "source": [
    "device = torch.device('cuda:0') if torch.cuda.is_available() else torch.device('cpu')"
   ]
  },
  {
   "cell_type": "code",
   "execution_count": 9,
   "id": "3a73efaa",
   "metadata": {},
   "outputs": [
    {
     "name": "stdout",
     "output_type": "stream",
     "text": [
      "cuda:0\n"
     ]
    }
   ],
   "source": [
    "print(device)"
   ]
  },
  {
   "cell_type": "markdown",
   "id": "98ccb2f9-6d7a-430f-8683-2df78aed688a",
   "metadata": {},
   "source": [
    "#### Посмотрим, как работает вариационный автоэнкодер: \n",
    "    Вариационные автоэнкодеры формируют параметры вектора длины n из случайных величин Xi, \n",
    "    причем i-е элементы векторов µ и σ являются средним и стандартным отклонением i-й случайной величины Xi. \n",
    "    Вместе эти величины образуют n-мерный случайный вектор, который посылается на декодер для восстановления данных"
   ]
  },
  {
   "cell_type": "code",
   "execution_count": 10,
   "id": "21dce66c",
   "metadata": {},
   "outputs": [
    {
     "data": {
      "image/jpeg": "[encoded data removed]",
      "text/plain": [
       "<IPython.core.display.Image object>"
      ]
     },
     "metadata": {},
     "output_type": "display_data"
    }
   ],
   "source": [
    "vae_explanation = Image(filename='vae.jpg')\n",
    "\n",
    "display(vae_explanation)"
   ]
  },
  {
   "cell_type": "code",
   "execution_count": 235,
   "id": "e1a9b989",
   "metadata": {},
   "outputs": [],
   "source": [
    "mnist_transformations = torchvision.transforms.ToTensor()"
   ]
  },
  {
   "cell_type": "markdown",
   "id": "eeafe068-0161-4754-8bab-9446b50edaf1",
   "metadata": {},
   "source": [
    "#### Загружаем датасет и передаем его в лоадер"
   ]
  },
  {
   "cell_type": "code",
   "execution_count": 236,
   "id": "c5428d9c",
   "metadata": {},
   "outputs": [],
   "source": [
    "batch_size = 256\n",
    "shuffle = True"
   ]
  },
  {
   "cell_type": "code",
   "execution_count": 237,
   "id": "29552c04",
   "metadata": {},
   "outputs": [],
   "source": [
    "data_test = datasets.MNIST(root='./data', train=False, download=True, transform= mnist_transformations)"
   ]
  },
  {
   "cell_type": "code",
   "execution_count": 238,
   "id": "ab9d3458",
   "metadata": {},
   "outputs": [],
   "source": [
    "data_train = datasets.MNIST(root='./data', train=True, download=True, transform= mnist_transformations)"
   ]
  },
  {
   "cell_type": "code",
   "execution_count": 239,
   "id": "399ce22a",
   "metadata": {},
   "outputs": [],
   "source": [
    "test_loader = torch.utils.data.DataLoader(dataset=data_test, batch_size= batch_size, shuffle=True)"
   ]
  },
  {
   "cell_type": "code",
   "execution_count": 240,
   "id": "1f9371bf",
   "metadata": {},
   "outputs": [],
   "source": [
    "train_loader = torch.utils.data.DataLoader(dataset=data_train, batch_size= batch_size, shuffle=True)"
   ]
  },
  {
   "cell_type": "markdown",
   "id": "e2d3a96e",
   "metadata": {},
   "source": [
    "#### Проверяем, что данные загружены корректно"
   ]
  },
  {
   "cell_type": "code",
   "execution_count": 241,
   "id": "097249ff",
   "metadata": {},
   "outputs": [],
   "source": [
    "fixed_x, _ = next(iter(train_loader))"
   ]
  },
  {
   "cell_type": "code",
   "execution_count": 242,
   "id": "88f06358",
   "metadata": {},
   "outputs": [
    {
     "data": {
      "text/plain": [
       "torch.Size([256, 1, 28, 28])"
      ]
     },
     "execution_count": 242,
     "metadata": {},
     "output_type": "execute_result"
    }
   ],
   "source": [
    "fixed_x.size()"
   ]
  },
  {
   "cell_type": "markdown",
   "id": "285147b1-425f-4dc2-b96c-6b227fe691f0",
   "metadata": {},
   "source": [
    "#### Наша модель будет работать следующим образом:\n",
    "1) Input img -> Hidden dim -> mean, std -> Parametrization trick -> Decoder -> Output img\n",
    "2) Hidden dim - делаем свертку для нашего изображения в пространство с меньшей размерностью и высчитываем вектор средних значений (mean) и вектор стандартных отклонений (std)\n",
    "3) Parametrization trick - создаем функцию z из этих двух параметров, которая будет непрерывной, поэтому мы сможем по ней высчитывать back propaganation\n",
    "4) Decoder - тут мы восстанавливаем картинку по z"
   ]
  },
  {
   "cell_type": "code",
   "execution_count": 249,
   "id": "4616061b",
   "metadata": {},
   "outputs": [],
   "source": [
    "class VAE(nn.Module):\n",
    "    def __init__(self, input_dim: int, h_dim: int, z_dim: int):\n",
    "        super().__init__()\n",
    "        #encoder\n",
    "        self.img_2hid = nn.Linear(input_dim, h_dim)\n",
    "        self.hid_2mu = nn.Linear(h_dim, z_dim)\n",
    "        self.hid_2sigma = nn.Linear(h_dim, z_dim)\n",
    "        \n",
    "        #decoder\n",
    "        self.z_2hid = nn.Linear(z_dim, h_dim)\n",
    "        self.hid_2img = nn.Linear(h_dim, input_dim)\n",
    "        \n",
    "        self.relu = nn.ReLU()\n",
    "        \n",
    "    def encoder(self, x: torch.tensor) -> tuple:\n",
    "        hidden_dim = self.relu(self.img_2hid(x))\n",
    "        mu, sigma = self.hid_2mu(hidden_dim), self.hid_2sigma(hidden_dim)\n",
    "        return mu, sigma\n",
    "    \n",
    "    def decoder (self, z: torch.tensor) -> torch.nn:\n",
    "        hidden_dim = self.relu(self.z_2hid(z))\n",
    "        return torch.sigmoid(self.hid_2img(hidden_dim))\n",
    "    \n",
    "    def forward(self, x: torch.tensor) -> tuple:\n",
    "        mu, sigma = self.encoder(x)\n",
    "        epsilon = torch.rand_like(sigma)\n",
    "        z_last = mu + sigma*epsilon\n",
    "        x_recon = self.decoder(z_last)\n",
    "        return x_recon, mu, sigma\n",
    "        "
   ]
  },
  {
   "cell_type": "markdown",
   "id": "dad55178",
   "metadata": {},
   "source": [
    "#### Тут мы прогоняем нашу модель на рандомном датасете, чтобы убедиться, что слои выдают корректные размерности "
   ]
  },
  {
   "cell_type": "code",
   "execution_count": 250,
   "id": "8fe107b4",
   "metadata": {},
   "outputs": [
    {
     "name": "stdout",
     "output_type": "stream",
     "text": [
      "torch.Size([4, 784])\n",
      "torch.Size([4, 4])\n",
      "torch.Size([4, 4])\n"
     ]
    }
   ],
   "source": [
    "x = torch.randn(4, 28*28)\n",
    "vae = VAE(input_dim = 784, h_dim = 16, z_dim = 4)\n",
    "x_reconstructed, mu, sigma =  vae(x)\n",
    "print(x_reconstructed.shape)\n",
    "print(mu.shape)\n",
    "print(sigma.shape)"
   ]
  },
  {
   "cell_type": "code",
   "execution_count": 251,
   "id": "5fe5ca76",
   "metadata": {},
   "outputs": [],
   "source": [
    "input_dim = 784\n",
    "image_channels = 1\n",
    "h_dim = 200\n",
    "z_dim = 20\n",
    "num_epochs = 10"
   ]
  },
  {
   "cell_type": "markdown",
   "id": "9586f204",
   "metadata": {},
   "source": [
    "#### Теперь создаем объект класса VAE, задаем необходимые параметры, а также инициализируем  оптимайзер и задаем функцию потерь"
   ]
  },
  {
   "cell_type": "code",
   "execution_count": 252,
   "id": "0e612e31",
   "metadata": {},
   "outputs": [],
   "source": [
    "model = VAE(input_dim, h_dim, z_dim).to(device)"
   ]
  },
  {
   "cell_type": "code",
   "execution_count": 253,
   "id": "7b55c7ae",
   "metadata": {},
   "outputs": [],
   "source": [
    "optimizer = torch.optim.Adam(model.parameters(), lr=3e-4)"
   ]
  },
  {
   "cell_type": "code",
   "execution_count": 254,
   "id": "ed26f0d1",
   "metadata": {},
   "outputs": [],
   "source": [
    "loss_fn = nn.BCELoss(reduction = \"sum\")"
   ]
  },
  {
   "cell_type": "markdown",
   "id": "d2a9f960",
   "metadata": {},
   "source": [
    "#### Обучаем нашу модель и смотрим на функцию потерь, которая состоит из kl дивергенции и бинарной кросс энтропии. Логгирование осуществляется с помощью модуля tqdm"
   ]
  },
  {
   "cell_type": "code",
   "execution_count": null,
   "id": "af2bdf21-0e9e-49ed-8e72-c6c544929ca7",
   "metadata": {},
   "outputs": [],
   "source": [
    "for epoch in range(num_epochs):\n",
    "    loop = tqdm.tqdm(enumerate(train_loader))\n",
    "    for i, (img, _) in loop:\n",
    "        \n",
    "        img = img.to(device).view(img.shape[0], input_dim)\n",
    "        img_reconstructed, mu, sigma = model(img)\n",
    "        \n",
    "        \n",
    "        reconstruction_loss = loss_fn(img_reconstructed, img)\n",
    "        kl_div = -torch.sum(1 + torch.log(sigma.pow(2)) - mu.pow(2) - sigma.pow(2))\n",
    "        \n",
    "        loss = reconstruction_loss + kl_div\n",
    "        optimizer.zero_grad()\n",
    "        loss.backward()\n",
    "        optimizer.step()\n",
    "        loop.set_postfix(loss = loss.item())"
   ]
  },
  {
   "cell_type": "markdown",
   "id": "4b4b114f-480c-4a38-a195-15be60992610",
   "metadata": {},
   "source": [
    "#### Перебрасываем модель на процессор, тестируем модель на каждой цифре, сохраняем картинки и выводим их для оценки"
   ]
  },
  {
   "cell_type": "code",
   "execution_count": 24,
   "id": "c21d018a",
   "metadata": {},
   "outputs": [],
   "source": [
    "model = model.to(\"cpu\")"
   ]
  },
  {
   "cell_type": "code",
   "execution_count": 25,
   "id": "aaeab480",
   "metadata": {},
   "outputs": [],
   "source": [
    "def inference(digit: int, num_examples=1):\n",
    "\n",
    "    images = []\n",
    "    idx = 0\n",
    "    for x, y in data_train:\n",
    "        if y == idx:\n",
    "            images.append(x)\n",
    "            idx += 1\n",
    "        if idx == 10:\n",
    "            break\n",
    "\n",
    "    encodings_digit = []\n",
    "    for d in range(10):\n",
    "        with torch.no_grad():\n",
    "            mu, sigma = model.encoder(images[d].view(1, 784))\n",
    "        encodings_digit.append((mu, sigma))\n",
    "\n",
    "    mu, sigma = encodings_digit[digit]\n",
    "    for example in range(num_examples):\n",
    "        epsilon = torch.randn_like(sigma)\n",
    "        z = mu + sigma * epsilon\n",
    "        out = model.decoder(z)\n",
    "        out = out.view(-1, 1, 28, 28)\n",
    "        save_image(images[digit], f\"real_{digit}.png\")\n",
    "        save_image(out, f\"generated_{digit}_ex{example}.png\")\n",
    "\n",
    "for idx in range(10):\n",
    "    inference(idx, num_examples=2)"
   ]
  },
  {
   "cell_type": "code",
   "execution_count": 31,
   "id": "14d4eb2c",
   "metadata": {},
   "outputs": [
    {
     "data": {
      "image/png": "[encoded data removed]",
      "text/plain": [
       "<IPython.core.display.Image object>"
      ]
     },
     "metadata": {
      "image/png": {
       "unconfined": true,
       "width": 100
      }
     },
     "output_type": "display_data"
    }
   ],
   "source": [
    "display(Image('generated_3_ex1.png', width=100, unconfined=True))"
   ]
  },
  {
   "cell_type": "code",
   "execution_count": 32,
   "id": "7636bf4b",
   "metadata": {},
   "outputs": [
    {
     "data": {
      "image/png": "[encoded data removed]",
      "text/plain": [
       "<IPython.core.display.Image object>"
      ]
     },
     "metadata": {
      "image/png": {
       "unconfined": true,
       "width": 100
      }
     },
     "output_type": "display_data"
    }
   ],
   "source": [
    "display(Image('real_3.png', width=100, unconfined=True))"
   ]
  },
  {
   "cell_type": "markdown",
   "id": "e221da92-08f3-4a7e-971d-5c6544f3fdec",
   "metadata": {},
   "source": [
    "#### Можем увидеть, что автоэнкодер сгенерировал уникальную цифру 3 с некоторым искажением, так как модель является упрощенной, а количество эпох равняется 10"
   ]
  },
  {
   "cell_type": "markdown",
   "id": "8d7b9cff-0c44-4966-83d3-fea62cdaac61",
   "metadata": {},
   "source": [
    "#### Создадим два класса, которые будут использоваться при модели со сверточными слоями, чтобы в конце энкодера выдавалась колбаска-вектор, которую мы используем для mean, std, а потом все снова представляем в виде матрицы  "
   ]
  },
  {
   "cell_type": "code",
   "execution_count": 257,
   "id": "e71b4f9b",
   "metadata": {},
   "outputs": [],
   "source": [
    "class Flatten(nn.Module):\n",
    "    def forward(self, input: torch.tensor) -> torch.tensor:\n",
    "        return input.view(input.size(0), -1)"
   ]
  },
  {
   "cell_type": "code",
   "execution_count": 258,
   "id": "aff9913d",
   "metadata": {},
   "outputs": [],
   "source": [
    "class UnFlatten(nn.Module):\n",
    "    def forward(self, input : torch.tensor, size=64) -> torch.tensor:\n",
    "        return input.view(input.size(0), size, 1, 1)"
   ]
  },
  {
   "cell_type": "markdown",
   "id": "941ebf23-8232-42ba-866b-538e1512b4e1",
   "metadata": {},
   "source": [
    "#### Смотрим на наши красивые цифры :)"
   ]
  },
  {
   "cell_type": "code",
   "execution_count": 259,
   "id": "f4bc6725",
   "metadata": {},
   "outputs": [
    {
     "data": {
      "image/png": "[encoded data removed]",
      "text/plain": [
       "<IPython.core.display.Image object>"
      ]
     },
     "execution_count": 259,
     "metadata": {},
     "output_type": "execute_result"
    }
   ],
   "source": [
    "\n",
    "fixed_x, _ = next(iter(train_loader))\n",
    "save_image(fixed_x, 'real_image.png')\n",
    "\n",
    "Image('real_image.png')"
   ]
  },
  {
   "cell_type": "markdown",
   "id": "feb66438",
   "metadata": {},
   "source": [
    "#### Тут у нас уже модель поитереснее: \n",
    "    энкодер состоит из трех сверточных слоев, каждый из которых кропает нашу картинку в два раза; декодер - восстанавливает изображение по скрытому слою; репараметризация - там мы вытаскиваем из декодера два вектора mean и std, и на их основе создаем функцию z, по которой уже будет считать градиенты и восстанавливать изображение, а также вспомогательные методы (save_model, load_model, forward)"
   ]
  },
  {
   "cell_type": "code",
   "execution_count": 260,
   "id": "ade31de9",
   "metadata": {},
   "outputs": [],
   "source": [
    " class VAE_CNN(nn.Module):\n",
    "\n",
    "    def encoder_fn(self) -> torch.nn:\n",
    "        encoder = nn.Sequential(\n",
    " \n",
    "            nn.Conv2d(1, 16, 4, stride=2),\n",
    "            nn.ReLU(), \n",
    "            nn.Conv2d(16, 32, 4, stride=2),\n",
    "            nn.ReLU(),\n",
    "            nn.Conv2d(32, 64, 4, stride=2),\n",
    "            nn.ReLU(),\n",
    "            Flatten()\n",
    "        )\n",
    "        \n",
    "        return encoder\n",
    "\n",
    "    def decoder_fn(self) -> torch.nn:\n",
    "        \n",
    "        decoder = nn.Sequential(\n",
    "            \n",
    "            UnFlatten(),\n",
    "            nn.ConvTranspose2d(64, 32, kernel_size=5, stride=2),\n",
    "            nn.ReLU(),\n",
    "            nn.ConvTranspose2d(32, 16, kernel_size=5, stride=2),\n",
    "            nn.ReLU(),\n",
    "            nn.ConvTranspose2d(16, 1, kernel_size=4, stride=2),\n",
    "            nn.Sigmoid(),\n",
    "        )\n",
    "        return decoder\n",
    "\n",
    "    def __init__(self, h_dim = 64, z_dim = 28):\n",
    "        super().__init__()\n",
    "        \n",
    "        self.encoder = self.encoder_fn()\n",
    "        self.hid_2mu = nn.Linear(h_dim, z_dim)\n",
    "        self.hid_2sigma = nn.Linear(h_dim, z_dim)\n",
    "        self.z_2hid = nn.Linear(z_dim, h_dim)\n",
    "        self.decoder = self.decoder_fn()\n",
    "    \n",
    "    def reparametrize(self, mu: torch.tensor, sigma:  torch.tensor) -> torch.tensor:\n",
    "        std = torch.exp(0.5 * sigma)\n",
    "        eps = torch.rand_like(std)\n",
    "        z = mu + eps*std\n",
    "        return z\n",
    "     \n",
    "    def bottleneck(self, h: torch.tensor) -> tuple:\n",
    "        mu, sigma = self.hid_2mu(h), self.hid_2sigma(h)\n",
    "        z_reparametrized = self.reparametrize(mu, sigma)\n",
    "        return z_reparametrized, mu, sigma\n",
    "    \n",
    "    def encode(self, x:  torch.tensor) -> tuple:\n",
    "        h = self.encoder(x)\n",
    "        z, mu, sigma = self.bottleneck(h)\n",
    "        return z, mu, sigma\n",
    "\n",
    "    def decode(self, z:  torch.tensor) -> torch.tensor:\n",
    "        z = self.z_2hid(z)\n",
    "        z = self.decoder(z)\n",
    "        return z\n",
    "    \n",
    "    def save_model(self, model: torch.nn):\n",
    "        torch.save(model.state_dict(), \"model_weights.pth\") # сохраняем веса нащей модели в файл \"model_weights.pth\"\n",
    "\n",
    "    def load_model(self) -> torch.nn:\n",
    "        # загружаем веса нащей модели в файл \"model_weights.pth\"\n",
    "        model = TheModelClass(*args, **kwargs) \n",
    "        model.load_state_dict(torch.load(\"model_weights.pth\"))\n",
    "        return model\n",
    "\n",
    "    def forward(self, x: torch.tensor) -> tuple:\n",
    "        z, mu, sigma = self.encode(x)\n",
    "        z = self.decode(z)\n",
    "        return z, mu, sigma\n",
    "    "
   ]
  },
  {
   "cell_type": "markdown",
   "id": "ffdcc197",
   "metadata": {},
   "source": [
    "#### Тут все по базе: \n",
    "    инициализируем модель, оптимайзер, создаем функцию потерь и прогоняем ее на 30 эпохах; логгирование процесса обучения уже производим с помощью wandb"
   ]
  },
  {
   "cell_type": "code",
   "execution_count": 261,
   "id": "1c0f65ba",
   "metadata": {},
   "outputs": [],
   "source": [
    "model_cnn = VAE_CNN().to(device)"
   ]
  },
  {
   "cell_type": "code",
   "execution_count": 262,
   "id": "dce42a66",
   "metadata": {},
   "outputs": [],
   "source": [
    "optimizer_cnn = torch.optim.Adam(model_cnn.parameters(), lr=3e-4)\n",
    "num_epochs = 30"
   ]
  },
  {
   "cell_type": "code",
   "execution_count": 263,
   "id": "c3920ef1",
   "metadata": {},
   "outputs": [],
   "source": [
    "def loss_func(recon_x: torch.tensor, x: torch.tensor, mu: torch.tensor, sigma: torch.tensor) -> tuple:\n",
    "    BCE = F.binary_cross_entropy(recon_x, x, size_average=False)\n",
    "    KLD = -0.5 * torch.mean(1 + sigma - mu.pow(2) - sigma.exp())\n",
    "\n",
    "    return BCE + KLD, BCE, KLD"
   ]
  },
  {
   "cell_type": "code",
   "execution_count": 247,
   "id": "ff891930",
   "metadata": {},
   "outputs": [],
   "source": [
    "# wandb.watch(model_cnn, log_freq=10)"
   ]
  },
  {
   "cell_type": "code",
   "execution_count": null,
   "id": "af104d5a-1cc0-4b7e-ac45-c12d383046d9",
   "metadata": {},
   "outputs": [],
   "source": [
    "for epoch in range(num_epochs):\n",
    "    loop = tqdm.tqdm(enumerate(train_loader))\n",
    "    for i, (img, _) in loop:\n",
    "        img = img.to(device)\n",
    "        recon_images, mu, sigma = model_cnn(img)\n",
    "        loss, bce, kld = loss_func(recon_images, img, mu, sigma)\n",
    "        optimizer_cnn.zero_grad()\n",
    "        loss.backward()\n",
    "        optimizer_cnn.step()\n",
    "        \n",
    "        wandb.log({\"Loss\": loss, \"bce\": bce, \"kld\": kld})"
   ]
  },
  {
   "cell_type": "code",
   "execution_count": 302,
   "id": "87a1d062",
   "metadata": {},
   "outputs": [
    {
     "data": {
      "text/html": [
       "Finishing last run (ID:crztdczw) before initializing another..."
      ],
      "text/plain": [
       "<IPython.core.display.HTML object>"
      ]
     },
     "metadata": {},
     "output_type": "display_data"
    },
    {
     "data": {
      "text/html": [
       "<style>\n",
       "    table.wandb td:nth-child(1) { padding: 0 10px; text-align: left ; width: auto;} td:nth-child(2) {text-align: left ; width: 100%}\n",
       "    .wandb-row { display: flex; flex-direction: row; flex-wrap: wrap; justify-content: flex-start; width: 100% }\n",
       "    .wandb-col { display: flex; flex-direction: column; flex-basis: 100%; flex: 1; padding: 10px; }\n",
       "    </style>\n",
       "<div class=\"wandb-row\"><div class=\"wandb-col\"><h3>Run history:</h3><br/><table class=\"wandb\"><tr><td>Loss</td><td>▄▄▄▄▄▄▄▄▄▄▄▄▄▄▄▄▄▄▄▄▄▄▄▄█▁▁▁▁▁▁▁▁▁▁▁▁▁▁▁</td></tr><tr><td>bce</td><td>████████████████████████▇▁▁▁▁▂▁▁▁▁▂▁▁▁▁▁</td></tr><tr><td>kld</td><td>▁▁▁▁▁▁▁▁▁▁▁▁▁▁▁▁▁▁▁▁▁▁▁▁█▁▁▁▁▁▁▁▁▁▁▁▁▁▁▁</td></tr></table><br/></div><div class=\"wandb-col\"><h3>Run summary:</h3><br/><table class=\"wandb\"><tr><td>Loss</td><td>-252144992.0</td></tr><tr><td>bce</td><td>-252146080.0</td></tr><tr><td>kld</td><td>1088.11511</td></tr></table><br/></div></div>"
      ],
      "text/plain": [
       "<IPython.core.display.HTML object>"
      ]
     },
     "metadata": {},
     "output_type": "display_data"
    },
    {
     "data": {
      "text/html": [
       " View run <strong style=\"color:#cdcd00\">curious-sky-3</strong> at: <a href='https://wandb.ai/te200228/uncategorized/runs/crztdczw' target=\"_blank\">https://wandb.ai/te200228/uncategorized/runs/crztdczw</a><br/>Synced 6 W&B file(s), 0 media file(s), 0 artifact file(s) and 0 other file(s)"
      ],
      "text/plain": [
       "<IPython.core.display.HTML object>"
      ]
     },
     "metadata": {},
     "output_type": "display_data"
    },
    {
     "data": {
      "text/html": [
       "Find logs at: <code>.\\wandb\\run-20240131_175947-crztdczw\\logs</code>"
      ],
      "text/plain": [
       "<IPython.core.display.HTML object>"
      ]
     },
     "metadata": {},
     "output_type": "display_data"
    },
    {
     "data": {
      "text/html": [
       "Successfully finished last run (ID:crztdczw). Initializing new run:<br/>"
      ],
      "text/plain": [
       "<IPython.core.display.HTML object>"
      ]
     },
     "metadata": {},
     "output_type": "display_data"
    },
    {
     "data": {
      "text/html": [
       "Tracking run with wandb version 0.16.2"
      ],
      "text/plain": [
       "<IPython.core.display.HTML object>"
      ]
     },
     "metadata": {},
     "output_type": "display_data"
    },
    {
     "data": {
      "text/html": [
       "Run data is saved locally in <code>C:\\Users\\te200\\ML\\ML_task2_Kravchenko_Timofey\\wandb\\run-20240201_014755-x3homr6c</code>"
      ],
      "text/plain": [
       "<IPython.core.display.HTML object>"
      ]
     },
     "metadata": {},
     "output_type": "display_data"
    },
    {
     "data": {
      "text/html": [
       "Syncing run <strong><a href='https://wandb.ai/te200228/uncategorized/runs/x3homr6c' target=\"_blank\">olive-violet-4</a></strong> to <a href='https://wandb.ai/te200228/uncategorized' target=\"_blank\">Weights & Biases</a> (<a href='https://wandb.me/run' target=\"_blank\">docs</a>)<br/>"
      ],
      "text/plain": [
       "<IPython.core.display.HTML object>"
      ]
     },
     "metadata": {},
     "output_type": "display_data"
    },
    {
     "data": {
      "text/html": [
       " View project at <a href='https://wandb.ai/te200228/uncategorized' target=\"_blank\">https://wandb.ai/te200228/uncategorized</a>"
      ],
      "text/plain": [
       "<IPython.core.display.HTML object>"
      ]
     },
     "metadata": {},
     "output_type": "display_data"
    },
    {
     "data": {
      "text/html": [
       " View run at <a href='https://wandb.ai/te200228/uncategorized/runs/x3homr6c' target=\"_blank\">https://wandb.ai/te200228/uncategorized/runs/x3homr6c</a>"
      ],
      "text/plain": [
       "<IPython.core.display.HTML object>"
      ]
     },
     "metadata": {},
     "output_type": "display_data"
    },
    {
     "data": {
      "text/html": [
       "<button onClick=\"this.nextSibling.style.display='block';this.style.display='none';\">Display W&B run</button><iframe src='https://wandb.ai/te200228/uncategorized/runs/x3homr6c?jupyter=true' style='border:none;width:100%;height:420px;display:none;'></iframe>"
      ],
      "text/plain": [
       "<wandb.sdk.wandb_run.Run at 0x1a1eb85b390>"
      ]
     },
     "execution_count": 302,
     "metadata": {},
     "output_type": "execute_result"
    }
   ],
   "source": [
    "wandb.init()"
   ]
  },
  {
   "cell_type": "code",
   "execution_count": 323,
   "id": "068974c8",
   "metadata": {},
   "outputs": [],
   "source": [
    "model_cnn = model_cnn.to(\"cpu\")"
   ]
  },
  {
   "cell_type": "code",
   "execution_count": 265,
   "id": "90375ac2",
   "metadata": {},
   "outputs": [],
   "source": [
    "def compare(x: torch.tensor) -> torch.tensor:\n",
    "    recon_x, _, _ = model_cnn(x)\n",
    "    return torch.cat([x, recon_x])"
   ]
  },
  {
   "cell_type": "code",
   "execution_count": 329,
   "id": "8782b407",
   "metadata": {},
   "outputs": [
    {
     "data": {
      "image/png": "[encoded data removed]",
      "text/plain": [
       "<IPython.core.display.Image object>"
      ]
     },
     "metadata": {
      "image/png": {
       "unconfined": true,
       "width": 700
      }
     },
     "output_type": "display_data"
    }
   ],
   "source": [
    "fixed_x = data_train[randint(1, 100)][0].unsqueeze(0)\n",
    "compare_x = compare(fixed_x)\n",
    "\n",
    "save_image(compare_x.data.cpu(), 'sample_image.png')\n",
    "display(Image('sample_image.png', width=700, unconfined=True))"
   ]
  },
  {
   "cell_type": "markdown",
   "id": "d5f674c4",
   "metadata": {},
   "source": [
    "#### Как мы можем увидеть, наша модель нарисовала даже более красивую с каллиграфической точки зрения цифру. Все работает корректно и без нареканий. Сверху можем увидеть, как наша функция потерь планомерно убывает, однако есть интересный скачок у kld, после которого он монотонно убывает. То есть можем сделать вывод, что сверточная сеть отработала эффективнее, так как является более совершеннной для данного типа задач. Все супер, движемся дальше: создадим кастомный датасет с методами:\n",
    "1) init - загрузка данных и их инициализация: разбиение на картинки и лейблы, перевод в тензоры\n",
    "2) len - возвращаем длину датасета\n",
    "3) getitem - возвращаем требуемый элемент датасета, а также его метку\n",
    "4) processing - тут мы нормализуем наши данные, чтобы значения пикселей были не от 0 до 255, а от 0 до 1\n",
    "5) augmentation - делаем преобразования над входными данными и добавляем полученные изображения в датасет, чтобы увеличить выборку "
   ]
  },
  {
   "cell_type": "code",
   "execution_count": 266,
   "id": "9b74d930",
   "metadata": {},
   "outputs": [],
   "source": [
    "class CustomMNISTDataset():\n",
    "    def __init__(self):\n",
    "        self.df = pd.read_csv(\"mnist_train.csv\")\n",
    "        self.df_labels =  self.df[['label']]\n",
    "        self.df = self.df.drop(columns = ['label'])\n",
    "        \n",
    "        self.dataset = torch.tensor(self.df.to_numpy()).reshape((-1,1,28,28)).float()\n",
    "        self.labels = torch.tensor(self.df_labels.to_numpy()).reshape(-1).long()\n",
    "    \n",
    "    def __len__(self) -> int:\n",
    "        return len(self.dataset)\n",
    "    \n",
    "    def __getitem__(self, idx: int) -> tuple:\n",
    "        return self.dataset[idx], self.labels[idx]\n",
    "    \n",
    "    def processing(self):\n",
    "        self.dataset = torch.div(self.dataset,torch.max(self.dataset))\n",
    "    \n",
    "    def augmentation(self) -> torch.tensor:\n",
    "        return torch.cat([self.dataset, torch.tensor(np.rot90(self.df.to_numpy()).reshape((-1,1,28,28))).float()], 0)\n",
    "    "
   ]
  },
  {
   "cell_type": "markdown",
   "id": "f36a9470",
   "metadata": {},
   "source": [
    "Смотрим на наш датасет и проверяем, что все ок"
   ]
  },
  {
   "cell_type": "code",
   "execution_count": 267,
   "id": "76f29613",
   "metadata": {},
   "outputs": [
    {
     "data": {
      "text/plain": [
       "60000"
      ]
     },
     "execution_count": 267,
     "metadata": {},
     "output_type": "execute_result"
    }
   ],
   "source": [
    "ds = CustomMNISTDataset()\n",
    "ds.processing()\n",
    "len(ds)"
   ]
  },
  {
   "cell_type": "code",
   "execution_count": 335,
   "id": "932b56d5",
   "metadata": {},
   "outputs": [],
   "source": [
    "ds_loader = torch.utils.data.DataLoader(dataset=ds, batch_size=batch_size, shuffle=True)"
   ]
  },
  {
   "cell_type": "code",
   "execution_count": 336,
   "id": "87440565",
   "metadata": {},
   "outputs": [
    {
     "data": {
      "text/plain": [
       "torch.Size([256, 1, 28, 28])"
      ]
     },
     "execution_count": 336,
     "metadata": {},
     "output_type": "execute_result"
    }
   ],
   "source": [
    "fixed_x, _ = next(iter(ds_loader))\n",
    "fixed_x.size()"
   ]
  },
  {
   "cell_type": "code",
   "execution_count": 338,
   "id": "5a0b8934",
   "metadata": {},
   "outputs": [
    {
     "data": {
      "image/png": "[encoded data removed]",
      "text/plain": [
       "<IPython.core.display.Image object>"
      ]
     },
     "execution_count": 338,
     "metadata": {},
     "output_type": "execute_result"
    }
   ],
   "source": [
    "fixed_x, _ = next(iter(ds_loader))\n",
    "save_image(fixed_x, 'real_image.png')\n",
    "\n",
    "Image('real_image.png')"
   ]
  },
  {
   "cell_type": "code",
   "execution_count": 339,
   "id": "451b9371",
   "metadata": {},
   "outputs": [
    {
     "name": "stdout",
     "output_type": "stream",
     "text": [
      "tensor([[[[0., 0., 0.,  ..., 0., 0., 0.],\n",
      "          [0., 0., 0.,  ..., 0., 0., 0.],\n",
      "          [0., 0., 0.,  ..., 0., 0., 0.],\n",
      "          ...,\n",
      "          [0., 0., 0.,  ..., 0., 0., 0.],\n",
      "          [0., 0., 0.,  ..., 0., 0., 0.],\n",
      "          [0., 0., 0.,  ..., 0., 0., 0.]]],\n",
      "\n",
      "\n",
      "        [[[0., 0., 0.,  ..., 0., 0., 0.],\n",
      "          [0., 0., 0.,  ..., 0., 0., 0.],\n",
      "          [0., 0., 0.,  ..., 0., 0., 0.],\n",
      "          ...,\n",
      "          [0., 0., 0.,  ..., 0., 0., 0.],\n",
      "          [0., 0., 0.,  ..., 0., 0., 0.],\n",
      "          [0., 0., 0.,  ..., 0., 0., 0.]]],\n",
      "\n",
      "\n",
      "        [[[0., 0., 0.,  ..., 0., 0., 0.],\n",
      "          [0., 0., 0.,  ..., 0., 0., 0.],\n",
      "          [0., 0., 0.,  ..., 0., 0., 0.],\n",
      "          ...,\n",
      "          [0., 0., 0.,  ..., 0., 0., 0.],\n",
      "          [0., 0., 0.,  ..., 0., 0., 0.],\n",
      "          [0., 0., 0.,  ..., 0., 0., 0.]]],\n",
      "\n",
      "\n",
      "        ...,\n",
      "\n",
      "\n",
      "        [[[0., 0., 0.,  ..., 0., 0., 0.],\n",
      "          [0., 0., 0.,  ..., 0., 0., 0.],\n",
      "          [0., 0., 0.,  ..., 0., 0., 0.],\n",
      "          ...,\n",
      "          [0., 0., 0.,  ..., 0., 0., 0.],\n",
      "          [0., 0., 0.,  ..., 0., 0., 0.],\n",
      "          [0., 0., 0.,  ..., 0., 0., 0.]]],\n",
      "\n",
      "\n",
      "        [[[0., 0., 0.,  ..., 0., 0., 0.],\n",
      "          [0., 0., 0.,  ..., 0., 0., 0.],\n",
      "          [0., 0., 0.,  ..., 0., 0., 0.],\n",
      "          ...,\n",
      "          [0., 0., 0.,  ..., 0., 0., 0.],\n",
      "          [0., 0., 0.,  ..., 0., 0., 0.],\n",
      "          [0., 0., 0.,  ..., 0., 0., 0.]]],\n",
      "\n",
      "\n",
      "        [[[0., 0., 0.,  ..., 0., 0., 0.],\n",
      "          [0., 0., 0.,  ..., 0., 0., 0.],\n",
      "          [0., 0., 0.,  ..., 0., 0., 0.],\n",
      "          ...,\n",
      "          [0., 0., 0.,  ..., 0., 0., 0.],\n",
      "          [0., 0., 0.,  ..., 0., 0., 0.],\n",
      "          [0., 0., 0.,  ..., 0., 0., 0.]]]]) tensor([6, 2, 5, 9, 1, 9, 1, 2, 9, 4, 6, 3, 2, 9, 7, 0, 5, 1, 0, 1, 3, 9, 4, 5,\n",
      "        1, 3, 7, 7, 2, 2, 3, 9, 6, 6, 6, 9, 7, 6, 5, 7, 4, 5, 3, 8, 3, 7, 3, 8,\n",
      "        1, 5, 9, 5, 9, 1, 4, 0, 9, 0, 7, 5, 1, 1, 3, 1, 6, 4, 9, 4, 8, 8, 2, 8,\n",
      "        5, 0, 3, 6, 6, 7, 4, 9, 7, 7, 5, 1, 7, 6, 0, 7, 8, 6, 3, 4, 6, 6, 4, 9,\n",
      "        5, 6, 7, 6, 1, 0, 8, 4, 3, 2, 2, 2, 3, 5, 8, 4, 9, 4, 2, 5, 6, 3, 5, 3,\n",
      "        9, 3, 0, 3, 7, 4, 5, 3, 0, 6, 2, 3, 1, 1, 5, 3, 6, 5, 2, 3, 1, 5, 8, 5,\n",
      "        9, 8, 4, 0, 3, 1, 5, 8, 6, 3, 2, 9, 3, 0, 3, 0, 4, 8, 1, 7, 3, 0, 3, 2,\n",
      "        8, 7, 5, 3, 6, 3, 7, 6, 3, 5, 9, 2, 0, 2, 3, 7, 1, 8, 0, 3, 7, 5, 8, 2,\n",
      "        8, 9, 2, 2, 4, 0, 7, 3, 1, 7, 5, 0, 1, 3, 4, 8, 8, 3, 0, 5, 4, 7, 2, 9,\n",
      "        0, 4, 3, 3, 0, 8, 6, 9, 9, 5, 9, 4, 3, 1, 2, 1, 1, 9, 9, 4, 2, 8, 8, 3,\n",
      "        0, 6, 5, 7, 4, 9, 4, 5, 7, 6, 4, 3, 5, 0, 9, 2])\n",
      "torch.Size([256, 1, 28, 28]) torch.Size([256])\n",
      "torch.Size([256, 1, 28, 28]) torch.Size([256])\n",
      "torch.Size([256, 1, 28, 28]) torch.Size([256])\n",
      "torch.Size([256, 1, 28, 28]) torch.Size([256])\n",
      "torch.Size([256, 1, 28, 28]) torch.Size([256])\n",
      "torch.Size([256, 1, 28, 28]) torch.Size([256])\n",
      "torch.Size([256, 1, 28, 28]) torch.Size([256])\n",
      "torch.Size([256, 1, 28, 28]) torch.Size([256])\n",
      "torch.Size([256, 1, 28, 28]) torch.Size([256])\n",
      "torch.Size([256, 1, 28, 28]) torch.Size([256])\n",
      "torch.Size([256, 1, 28, 28]) torch.Size([256])\n",
      "torch.Size([256, 1, 28, 28]) torch.Size([256])\n",
      "torch.Size([256, 1, 28, 28]) torch.Size([256])\n",
      "torch.Size([256, 1, 28, 28]) torch.Size([256])\n",
      "torch.Size([256, 1, 28, 28]) torch.Size([256])\n",
      "torch.Size([256, 1, 28, 28]) torch.Size([256])\n",
      "torch.Size([256, 1, 28, 28]) torch.Size([256])\n",
      "torch.Size([256, 1, 28, 28]) torch.Size([256])\n",
      "torch.Size([256, 1, 28, 28]) torch.Size([256])\n",
      "torch.Size([256, 1, 28, 28]) torch.Size([256])\n",
      "torch.Size([256, 1, 28, 28]) torch.Size([256])\n",
      "torch.Size([256, 1, 28, 28]) torch.Size([256])\n",
      "torch.Size([256, 1, 28, 28]) torch.Size([256])\n",
      "torch.Size([256, 1, 28, 28]) torch.Size([256])\n",
      "torch.Size([256, 1, 28, 28]) torch.Size([256])\n",
      "torch.Size([256, 1, 28, 28]) torch.Size([256])\n",
      "torch.Size([256, 1, 28, 28]) torch.Size([256])\n",
      "torch.Size([256, 1, 28, 28]) torch.Size([256])\n",
      "torch.Size([256, 1, 28, 28]) torch.Size([256])\n",
      "torch.Size([256, 1, 28, 28]) torch.Size([256])\n",
      "torch.Size([256, 1, 28, 28]) torch.Size([256])\n",
      "torch.Size([256, 1, 28, 28]) torch.Size([256])\n",
      "torch.Size([256, 1, 28, 28]) torch.Size([256])\n",
      "torch.Size([256, 1, 28, 28]) torch.Size([256])\n",
      "torch.Size([256, 1, 28, 28]) torch.Size([256])\n",
      "torch.Size([256, 1, 28, 28]) torch.Size([256])\n",
      "torch.Size([256, 1, 28, 28]) torch.Size([256])\n",
      "torch.Size([256, 1, 28, 28]) torch.Size([256])\n",
      "torch.Size([256, 1, 28, 28]) torch.Size([256])\n",
      "torch.Size([256, 1, 28, 28]) torch.Size([256])\n",
      "torch.Size([256, 1, 28, 28]) torch.Size([256])\n",
      "torch.Size([256, 1, 28, 28]) torch.Size([256])\n",
      "torch.Size([256, 1, 28, 28]) torch.Size([256])\n",
      "torch.Size([256, 1, 28, 28]) torch.Size([256])\n",
      "torch.Size([256, 1, 28, 28]) torch.Size([256])\n",
      "torch.Size([256, 1, 28, 28]) torch.Size([256])\n",
      "torch.Size([256, 1, 28, 28]) torch.Size([256])\n",
      "torch.Size([256, 1, 28, 28]) torch.Size([256])\n",
      "torch.Size([256, 1, 28, 28]) torch.Size([256])\n",
      "torch.Size([256, 1, 28, 28]) torch.Size([256])\n",
      "torch.Size([256, 1, 28, 28]) torch.Size([256])\n",
      "torch.Size([256, 1, 28, 28]) torch.Size([256])\n",
      "torch.Size([256, 1, 28, 28]) torch.Size([256])\n",
      "torch.Size([256, 1, 28, 28]) torch.Size([256])\n",
      "torch.Size([256, 1, 28, 28]) torch.Size([256])\n",
      "torch.Size([256, 1, 28, 28]) torch.Size([256])\n",
      "torch.Size([256, 1, 28, 28]) torch.Size([256])\n",
      "torch.Size([256, 1, 28, 28]) torch.Size([256])\n",
      "torch.Size([256, 1, 28, 28]) torch.Size([256])\n",
      "torch.Size([256, 1, 28, 28]) torch.Size([256])\n",
      "torch.Size([256, 1, 28, 28]) torch.Size([256])\n",
      "torch.Size([256, 1, 28, 28]) torch.Size([256])\n",
      "torch.Size([256, 1, 28, 28]) torch.Size([256])\n",
      "torch.Size([256, 1, 28, 28]) torch.Size([256])\n",
      "torch.Size([256, 1, 28, 28]) torch.Size([256])\n",
      "torch.Size([256, 1, 28, 28]) torch.Size([256])\n",
      "torch.Size([256, 1, 28, 28]) torch.Size([256])\n",
      "torch.Size([256, 1, 28, 28]) torch.Size([256])\n",
      "torch.Size([256, 1, 28, 28]) torch.Size([256])\n",
      "torch.Size([256, 1, 28, 28]) torch.Size([256])\n",
      "torch.Size([256, 1, 28, 28]) torch.Size([256])\n",
      "torch.Size([256, 1, 28, 28]) torch.Size([256])\n",
      "torch.Size([256, 1, 28, 28]) torch.Size([256])\n",
      "torch.Size([256, 1, 28, 28]) torch.Size([256])\n",
      "torch.Size([256, 1, 28, 28]) torch.Size([256])\n",
      "torch.Size([256, 1, 28, 28]) torch.Size([256])\n",
      "torch.Size([256, 1, 28, 28]) torch.Size([256])\n",
      "torch.Size([256, 1, 28, 28]) torch.Size([256])\n",
      "torch.Size([256, 1, 28, 28]) torch.Size([256])\n",
      "torch.Size([256, 1, 28, 28]) torch.Size([256])\n",
      "torch.Size([256, 1, 28, 28]) torch.Size([256])\n",
      "torch.Size([256, 1, 28, 28]) torch.Size([256])\n",
      "torch.Size([256, 1, 28, 28]) torch.Size([256])\n",
      "torch.Size([256, 1, 28, 28]) torch.Size([256])\n",
      "torch.Size([256, 1, 28, 28]) torch.Size([256])\n",
      "torch.Size([256, 1, 28, 28]) torch.Size([256])\n",
      "torch.Size([256, 1, 28, 28]) torch.Size([256])\n",
      "torch.Size([256, 1, 28, 28]) torch.Size([256])\n",
      "torch.Size([256, 1, 28, 28]) torch.Size([256])\n",
      "torch.Size([256, 1, 28, 28]) torch.Size([256])\n",
      "torch.Size([256, 1, 28, 28]) torch.Size([256])\n",
      "torch.Size([256, 1, 28, 28]) torch.Size([256])\n",
      "torch.Size([256, 1, 28, 28]) torch.Size([256])\n",
      "torch.Size([256, 1, 28, 28]) torch.Size([256])\n",
      "torch.Size([256, 1, 28, 28]) torch.Size([256])\n",
      "torch.Size([256, 1, 28, 28]) torch.Size([256])\n",
      "torch.Size([256, 1, 28, 28]) torch.Size([256])\n",
      "torch.Size([256, 1, 28, 28]) torch.Size([256])\n",
      "torch.Size([256, 1, 28, 28]) torch.Size([256])\n",
      "torch.Size([256, 1, 28, 28]) torch.Size([256])\n",
      "torch.Size([256, 1, 28, 28]) torch.Size([256])\n",
      "torch.Size([256, 1, 28, 28]) torch.Size([256])\n",
      "torch.Size([256, 1, 28, 28]) torch.Size([256])\n",
      "torch.Size([256, 1, 28, 28]) torch.Size([256])\n",
      "torch.Size([256, 1, 28, 28]) torch.Size([256])\n",
      "torch.Size([256, 1, 28, 28]) torch.Size([256])\n",
      "torch.Size([256, 1, 28, 28]) torch.Size([256])\n",
      "torch.Size([256, 1, 28, 28]) torch.Size([256])\n",
      "torch.Size([256, 1, 28, 28]) torch.Size([256])\n",
      "torch.Size([256, 1, 28, 28]) torch.Size([256])\n",
      "torch.Size([256, 1, 28, 28]) torch.Size([256])\n",
      "torch.Size([256, 1, 28, 28]) torch.Size([256])\n",
      "torch.Size([256, 1, 28, 28]) torch.Size([256])\n",
      "torch.Size([256, 1, 28, 28]) torch.Size([256])\n",
      "torch.Size([256, 1, 28, 28]) torch.Size([256])\n",
      "torch.Size([256, 1, 28, 28]) torch.Size([256])\n",
      "torch.Size([256, 1, 28, 28]) torch.Size([256])\n",
      "torch.Size([256, 1, 28, 28]) torch.Size([256])\n",
      "torch.Size([256, 1, 28, 28]) torch.Size([256])\n",
      "torch.Size([256, 1, 28, 28]) torch.Size([256])\n",
      "torch.Size([256, 1, 28, 28]) torch.Size([256])\n",
      "torch.Size([256, 1, 28, 28]) torch.Size([256])\n",
      "torch.Size([256, 1, 28, 28]) torch.Size([256])\n",
      "torch.Size([256, 1, 28, 28]) torch.Size([256])\n",
      "torch.Size([256, 1, 28, 28]) torch.Size([256])\n",
      "torch.Size([256, 1, 28, 28]) torch.Size([256])\n",
      "torch.Size([256, 1, 28, 28]) torch.Size([256])\n",
      "torch.Size([256, 1, 28, 28]) torch.Size([256])\n",
      "torch.Size([256, 1, 28, 28]) torch.Size([256])\n",
      "torch.Size([256, 1, 28, 28]) torch.Size([256])\n",
      "torch.Size([256, 1, 28, 28]) torch.Size([256])\n",
      "torch.Size([256, 1, 28, 28]) torch.Size([256])\n",
      "torch.Size([256, 1, 28, 28]) torch.Size([256])\n",
      "torch.Size([256, 1, 28, 28]) torch.Size([256])\n",
      "torch.Size([256, 1, 28, 28]) torch.Size([256])\n",
      "torch.Size([256, 1, 28, 28]) torch.Size([256])\n",
      "torch.Size([256, 1, 28, 28]) torch.Size([256])\n",
      "torch.Size([256, 1, 28, 28]) torch.Size([256])\n"
     ]
    },
    {
     "name": "stdout",
     "output_type": "stream",
     "text": [
      "torch.Size([256, 1, 28, 28]) torch.Size([256])\n",
      "torch.Size([256, 1, 28, 28]) torch.Size([256])\n",
      "torch.Size([256, 1, 28, 28]) torch.Size([256])\n",
      "torch.Size([256, 1, 28, 28]) torch.Size([256])\n",
      "torch.Size([256, 1, 28, 28]) torch.Size([256])\n",
      "torch.Size([256, 1, 28, 28]) torch.Size([256])\n",
      "torch.Size([256, 1, 28, 28]) torch.Size([256])\n",
      "torch.Size([256, 1, 28, 28]) torch.Size([256])\n",
      "torch.Size([256, 1, 28, 28]) torch.Size([256])\n",
      "torch.Size([256, 1, 28, 28]) torch.Size([256])\n",
      "torch.Size([256, 1, 28, 28]) torch.Size([256])\n",
      "torch.Size([256, 1, 28, 28]) torch.Size([256])\n",
      "torch.Size([256, 1, 28, 28]) torch.Size([256])\n",
      "torch.Size([256, 1, 28, 28]) torch.Size([256])\n",
      "torch.Size([256, 1, 28, 28]) torch.Size([256])\n",
      "torch.Size([256, 1, 28, 28]) torch.Size([256])\n",
      "torch.Size([256, 1, 28, 28]) torch.Size([256])\n",
      "torch.Size([256, 1, 28, 28]) torch.Size([256])\n",
      "torch.Size([256, 1, 28, 28]) torch.Size([256])\n",
      "torch.Size([256, 1, 28, 28]) torch.Size([256])\n",
      "torch.Size([256, 1, 28, 28]) torch.Size([256])\n",
      "torch.Size([256, 1, 28, 28]) torch.Size([256])\n",
      "torch.Size([256, 1, 28, 28]) torch.Size([256])\n",
      "torch.Size([256, 1, 28, 28]) torch.Size([256])\n",
      "torch.Size([256, 1, 28, 28]) torch.Size([256])\n",
      "torch.Size([256, 1, 28, 28]) torch.Size([256])\n",
      "torch.Size([256, 1, 28, 28]) torch.Size([256])\n",
      "torch.Size([256, 1, 28, 28]) torch.Size([256])\n",
      "torch.Size([256, 1, 28, 28]) torch.Size([256])\n",
      "torch.Size([256, 1, 28, 28]) torch.Size([256])\n",
      "torch.Size([256, 1, 28, 28]) torch.Size([256])\n",
      "torch.Size([256, 1, 28, 28]) torch.Size([256])\n",
      "torch.Size([256, 1, 28, 28]) torch.Size([256])\n",
      "torch.Size([256, 1, 28, 28]) torch.Size([256])\n",
      "torch.Size([256, 1, 28, 28]) torch.Size([256])\n",
      "torch.Size([256, 1, 28, 28]) torch.Size([256])\n",
      "torch.Size([256, 1, 28, 28]) torch.Size([256])\n",
      "torch.Size([256, 1, 28, 28]) torch.Size([256])\n",
      "torch.Size([256, 1, 28, 28]) torch.Size([256])\n",
      "torch.Size([256, 1, 28, 28]) torch.Size([256])\n",
      "torch.Size([256, 1, 28, 28]) torch.Size([256])\n",
      "torch.Size([256, 1, 28, 28]) torch.Size([256])\n",
      "torch.Size([256, 1, 28, 28]) torch.Size([256])\n",
      "torch.Size([256, 1, 28, 28]) torch.Size([256])\n",
      "torch.Size([256, 1, 28, 28]) torch.Size([256])\n",
      "torch.Size([256, 1, 28, 28]) torch.Size([256])\n",
      "torch.Size([256, 1, 28, 28]) torch.Size([256])\n",
      "torch.Size([256, 1, 28, 28]) torch.Size([256])\n",
      "torch.Size([256, 1, 28, 28]) torch.Size([256])\n",
      "torch.Size([256, 1, 28, 28]) torch.Size([256])\n",
      "torch.Size([256, 1, 28, 28]) torch.Size([256])\n",
      "torch.Size([256, 1, 28, 28]) torch.Size([256])\n",
      "torch.Size([256, 1, 28, 28]) torch.Size([256])\n",
      "torch.Size([256, 1, 28, 28]) torch.Size([256])\n",
      "torch.Size([256, 1, 28, 28]) torch.Size([256])\n",
      "torch.Size([256, 1, 28, 28]) torch.Size([256])\n",
      "torch.Size([256, 1, 28, 28]) torch.Size([256])\n",
      "torch.Size([256, 1, 28, 28]) torch.Size([256])\n",
      "torch.Size([256, 1, 28, 28]) torch.Size([256])\n",
      "torch.Size([256, 1, 28, 28]) torch.Size([256])\n",
      "torch.Size([256, 1, 28, 28]) torch.Size([256])\n",
      "torch.Size([256, 1, 28, 28]) torch.Size([256])\n",
      "torch.Size([256, 1, 28, 28]) torch.Size([256])\n",
      "torch.Size([256, 1, 28, 28]) torch.Size([256])\n",
      "torch.Size([256, 1, 28, 28]) torch.Size([256])\n",
      "torch.Size([256, 1, 28, 28]) torch.Size([256])\n",
      "torch.Size([256, 1, 28, 28]) torch.Size([256])\n",
      "torch.Size([256, 1, 28, 28]) torch.Size([256])\n",
      "torch.Size([256, 1, 28, 28]) torch.Size([256])\n",
      "torch.Size([256, 1, 28, 28]) torch.Size([256])\n",
      "torch.Size([256, 1, 28, 28]) torch.Size([256])\n",
      "torch.Size([256, 1, 28, 28]) torch.Size([256])\n",
      "torch.Size([256, 1, 28, 28]) torch.Size([256])\n",
      "torch.Size([256, 1, 28, 28]) torch.Size([256])\n",
      "torch.Size([256, 1, 28, 28]) torch.Size([256])\n",
      "torch.Size([256, 1, 28, 28]) torch.Size([256])\n",
      "torch.Size([256, 1, 28, 28]) torch.Size([256])\n",
      "torch.Size([256, 1, 28, 28]) torch.Size([256])\n",
      "torch.Size([256, 1, 28, 28]) torch.Size([256])\n",
      "torch.Size([256, 1, 28, 28]) torch.Size([256])\n",
      "torch.Size([256, 1, 28, 28]) torch.Size([256])\n",
      "torch.Size([256, 1, 28, 28]) torch.Size([256])\n",
      "torch.Size([256, 1, 28, 28]) torch.Size([256])\n",
      "torch.Size([256, 1, 28, 28]) torch.Size([256])\n",
      "torch.Size([256, 1, 28, 28]) torch.Size([256])\n",
      "torch.Size([256, 1, 28, 28]) torch.Size([256])\n",
      "torch.Size([256, 1, 28, 28]) torch.Size([256])\n",
      "torch.Size([256, 1, 28, 28]) torch.Size([256])\n",
      "torch.Size([256, 1, 28, 28]) torch.Size([256])\n",
      "torch.Size([256, 1, 28, 28]) torch.Size([256])\n",
      "torch.Size([256, 1, 28, 28]) torch.Size([256])\n",
      "torch.Size([256, 1, 28, 28]) torch.Size([256])\n",
      "torch.Size([256, 1, 28, 28]) torch.Size([256])\n",
      "torch.Size([256, 1, 28, 28]) torch.Size([256])\n",
      "torch.Size([256, 1, 28, 28]) torch.Size([256])\n",
      "torch.Size([256, 1, 28, 28]) torch.Size([256])\n",
      "torch.Size([96, 1, 28, 28]) torch.Size([96])\n",
      "torch.Size([256, 1, 28, 28]) torch.Size([256])\n",
      "torch.Size([256, 1, 28, 28]) torch.Size([256])\n",
      "torch.Size([256, 1, 28, 28]) torch.Size([256])\n",
      "torch.Size([256, 1, 28, 28]) torch.Size([256])\n",
      "torch.Size([256, 1, 28, 28]) torch.Size([256])\n",
      "torch.Size([256, 1, 28, 28]) torch.Size([256])\n",
      "torch.Size([256, 1, 28, 28]) torch.Size([256])\n",
      "torch.Size([256, 1, 28, 28]) torch.Size([256])\n",
      "torch.Size([256, 1, 28, 28]) torch.Size([256])\n",
      "torch.Size([256, 1, 28, 28]) torch.Size([256])\n",
      "torch.Size([256, 1, 28, 28]) torch.Size([256])\n",
      "torch.Size([256, 1, 28, 28]) torch.Size([256])\n",
      "torch.Size([256, 1, 28, 28]) torch.Size([256])\n",
      "torch.Size([256, 1, 28, 28]) torch.Size([256])\n",
      "torch.Size([256, 1, 28, 28]) torch.Size([256])\n",
      "torch.Size([256, 1, 28, 28]) torch.Size([256])\n",
      "torch.Size([256, 1, 28, 28]) torch.Size([256])\n",
      "torch.Size([256, 1, 28, 28]) torch.Size([256])\n",
      "torch.Size([256, 1, 28, 28]) torch.Size([256])\n",
      "torch.Size([256, 1, 28, 28]) torch.Size([256])\n",
      "torch.Size([256, 1, 28, 28]) torch.Size([256])\n",
      "torch.Size([256, 1, 28, 28]) torch.Size([256])\n",
      "torch.Size([256, 1, 28, 28]) torch.Size([256])\n",
      "torch.Size([256, 1, 28, 28]) torch.Size([256])\n",
      "torch.Size([256, 1, 28, 28]) torch.Size([256])\n",
      "torch.Size([256, 1, 28, 28]) torch.Size([256])\n",
      "torch.Size([256, 1, 28, 28]) torch.Size([256])\n",
      "torch.Size([256, 1, 28, 28]) torch.Size([256])\n",
      "torch.Size([256, 1, 28, 28]) torch.Size([256])\n",
      "torch.Size([256, 1, 28, 28]) torch.Size([256])\n",
      "torch.Size([256, 1, 28, 28]) torch.Size([256])\n",
      "torch.Size([256, 1, 28, 28]) torch.Size([256])\n",
      "torch.Size([256, 1, 28, 28]) torch.Size([256])\n",
      "torch.Size([256, 1, 28, 28]) torch.Size([256])\n",
      "torch.Size([256, 1, 28, 28]) torch.Size([256])\n",
      "torch.Size([256, 1, 28, 28]) torch.Size([256])\n",
      "torch.Size([256, 1, 28, 28]) torch.Size([256])\n",
      "torch.Size([256, 1, 28, 28]) torch.Size([256])\n",
      "torch.Size([256, 1, 28, 28]) torch.Size([256])\n",
      "torch.Size([256, 1, 28, 28]) torch.Size([256])\n",
      "torch.Size([256, 1, 28, 28]) torch.Size([256])\n",
      "torch.Size([256, 1, 28, 28]) torch.Size([256])\n",
      "torch.Size([256, 1, 28, 28]) torch.Size([256])\n",
      "torch.Size([256, 1, 28, 28]) torch.Size([256])\n",
      "torch.Size([256, 1, 28, 28]) torch.Size([256])\n",
      "torch.Size([256, 1, 28, 28]) torch.Size([256])\n",
      "torch.Size([256, 1, 28, 28]) torch.Size([256])\n",
      "torch.Size([256, 1, 28, 28]) torch.Size([256])\n",
      "torch.Size([256, 1, 28, 28]) torch.Size([256])\n",
      "torch.Size([256, 1, 28, 28]) torch.Size([256])\n",
      "torch.Size([256, 1, 28, 28]) torch.Size([256])\n",
      "torch.Size([256, 1, 28, 28]) torch.Size([256])\n",
      "torch.Size([256, 1, 28, 28]) torch.Size([256])\n",
      "torch.Size([256, 1, 28, 28]) torch.Size([256])\n",
      "torch.Size([256, 1, 28, 28]) torch.Size([256])\n",
      "torch.Size([256, 1, 28, 28]) torch.Size([256])\n",
      "torch.Size([256, 1, 28, 28]) torch.Size([256])\n",
      "torch.Size([256, 1, 28, 28]) torch.Size([256])\n",
      "torch.Size([256, 1, 28, 28]) torch.Size([256])\n",
      "torch.Size([256, 1, 28, 28]) torch.Size([256])\n",
      "torch.Size([256, 1, 28, 28]) torch.Size([256])\n",
      "torch.Size([256, 1, 28, 28]) torch.Size([256])\n",
      "torch.Size([256, 1, 28, 28]) torch.Size([256])\n",
      "torch.Size([256, 1, 28, 28]) torch.Size([256])\n",
      "torch.Size([256, 1, 28, 28]) torch.Size([256])\n",
      "torch.Size([256, 1, 28, 28]) torch.Size([256])\n",
      "torch.Size([256, 1, 28, 28]) torch.Size([256])\n",
      "torch.Size([256, 1, 28, 28]) torch.Size([256])\n",
      "torch.Size([256, 1, 28, 28]) torch.Size([256])\n",
      "torch.Size([256, 1, 28, 28]) torch.Size([256])\n",
      "torch.Size([256, 1, 28, 28]) torch.Size([256])\n",
      "torch.Size([256, 1, 28, 28]) torch.Size([256])\n",
      "torch.Size([256, 1, 28, 28]) torch.Size([256])\n",
      "torch.Size([256, 1, 28, 28]) torch.Size([256])\n",
      "torch.Size([256, 1, 28, 28]) torch.Size([256])\n",
      "torch.Size([256, 1, 28, 28]) torch.Size([256])\n",
      "torch.Size([256, 1, 28, 28]) torch.Size([256])\n",
      "torch.Size([256, 1, 28, 28]) torch.Size([256])\n",
      "torch.Size([256, 1, 28, 28]) torch.Size([256])\n",
      "torch.Size([256, 1, 28, 28]) torch.Size([256])\n",
      "torch.Size([256, 1, 28, 28]) torch.Size([256])\n",
      "torch.Size([256, 1, 28, 28]) torch.Size([256])\n",
      "torch.Size([256, 1, 28, 28]) torch.Size([256])\n",
      "torch.Size([256, 1, 28, 28]) torch.Size([256])\n",
      "torch.Size([256, 1, 28, 28]) torch.Size([256])\n",
      "torch.Size([256, 1, 28, 28]) torch.Size([256])\n",
      "torch.Size([256, 1, 28, 28]) torch.Size([256])\n",
      "torch.Size([256, 1, 28, 28]) torch.Size([256])\n",
      "torch.Size([256, 1, 28, 28]) torch.Size([256])\n",
      "torch.Size([256, 1, 28, 28]) torch.Size([256])\n",
      "torch.Size([256, 1, 28, 28]) torch.Size([256])\n",
      "torch.Size([256, 1, 28, 28]) torch.Size([256])\n",
      "torch.Size([256, 1, 28, 28]) torch.Size([256])\n",
      "torch.Size([256, 1, 28, 28]) torch.Size([256])\n",
      "torch.Size([256, 1, 28, 28]) torch.Size([256])\n",
      "torch.Size([256, 1, 28, 28]) torch.Size([256])\n"
     ]
    },
    {
     "name": "stdout",
     "output_type": "stream",
     "text": [
      "torch.Size([256, 1, 28, 28]) torch.Size([256])\n",
      "torch.Size([256, 1, 28, 28]) torch.Size([256])\n",
      "torch.Size([256, 1, 28, 28]) torch.Size([256])\n",
      "torch.Size([256, 1, 28, 28]) torch.Size([256])\n",
      "torch.Size([256, 1, 28, 28]) torch.Size([256])\n",
      "torch.Size([256, 1, 28, 28]) torch.Size([256])\n",
      "torch.Size([256, 1, 28, 28]) torch.Size([256])\n",
      "torch.Size([256, 1, 28, 28]) torch.Size([256])\n",
      "torch.Size([256, 1, 28, 28]) torch.Size([256])\n",
      "torch.Size([256, 1, 28, 28]) torch.Size([256])\n",
      "torch.Size([256, 1, 28, 28]) torch.Size([256])\n",
      "torch.Size([256, 1, 28, 28]) torch.Size([256])\n",
      "torch.Size([256, 1, 28, 28]) torch.Size([256])\n",
      "torch.Size([256, 1, 28, 28]) torch.Size([256])\n",
      "torch.Size([256, 1, 28, 28]) torch.Size([256])\n",
      "torch.Size([256, 1, 28, 28]) torch.Size([256])\n",
      "torch.Size([256, 1, 28, 28]) torch.Size([256])\n",
      "torch.Size([256, 1, 28, 28]) torch.Size([256])\n",
      "torch.Size([256, 1, 28, 28]) torch.Size([256])\n",
      "torch.Size([256, 1, 28, 28]) torch.Size([256])\n",
      "torch.Size([256, 1, 28, 28]) torch.Size([256])\n",
      "torch.Size([256, 1, 28, 28]) torch.Size([256])\n",
      "torch.Size([256, 1, 28, 28]) torch.Size([256])\n",
      "torch.Size([256, 1, 28, 28]) torch.Size([256])\n",
      "torch.Size([256, 1, 28, 28]) torch.Size([256])\n",
      "torch.Size([256, 1, 28, 28]) torch.Size([256])\n",
      "torch.Size([256, 1, 28, 28]) torch.Size([256])\n",
      "torch.Size([256, 1, 28, 28]) torch.Size([256])\n",
      "torch.Size([256, 1, 28, 28]) torch.Size([256])\n",
      "torch.Size([256, 1, 28, 28]) torch.Size([256])\n",
      "torch.Size([256, 1, 28, 28]) torch.Size([256])\n",
      "torch.Size([256, 1, 28, 28]) torch.Size([256])\n",
      "torch.Size([256, 1, 28, 28]) torch.Size([256])\n",
      "torch.Size([256, 1, 28, 28]) torch.Size([256])\n",
      "torch.Size([256, 1, 28, 28]) torch.Size([256])\n",
      "torch.Size([256, 1, 28, 28]) torch.Size([256])\n",
      "torch.Size([256, 1, 28, 28]) torch.Size([256])\n",
      "torch.Size([256, 1, 28, 28]) torch.Size([256])\n",
      "torch.Size([256, 1, 28, 28]) torch.Size([256])\n",
      "torch.Size([256, 1, 28, 28]) torch.Size([256])\n",
      "torch.Size([256, 1, 28, 28]) torch.Size([256])\n",
      "torch.Size([256, 1, 28, 28]) torch.Size([256])\n",
      "torch.Size([256, 1, 28, 28]) torch.Size([256])\n",
      "torch.Size([256, 1, 28, 28]) torch.Size([256])\n",
      "torch.Size([256, 1, 28, 28]) torch.Size([256])\n",
      "torch.Size([256, 1, 28, 28]) torch.Size([256])\n",
      "torch.Size([256, 1, 28, 28]) torch.Size([256])\n",
      "torch.Size([256, 1, 28, 28]) torch.Size([256])\n",
      "torch.Size([256, 1, 28, 28]) torch.Size([256])\n",
      "torch.Size([256, 1, 28, 28]) torch.Size([256])\n",
      "torch.Size([256, 1, 28, 28]) torch.Size([256])\n",
      "torch.Size([256, 1, 28, 28]) torch.Size([256])\n",
      "torch.Size([256, 1, 28, 28]) torch.Size([256])\n",
      "torch.Size([256, 1, 28, 28]) torch.Size([256])\n",
      "torch.Size([256, 1, 28, 28]) torch.Size([256])\n",
      "torch.Size([256, 1, 28, 28]) torch.Size([256])\n",
      "torch.Size([256, 1, 28, 28]) torch.Size([256])\n",
      "torch.Size([256, 1, 28, 28]) torch.Size([256])\n",
      "torch.Size([256, 1, 28, 28]) torch.Size([256])\n",
      "torch.Size([256, 1, 28, 28]) torch.Size([256])\n",
      "torch.Size([256, 1, 28, 28]) torch.Size([256])\n",
      "torch.Size([256, 1, 28, 28]) torch.Size([256])\n",
      "torch.Size([256, 1, 28, 28]) torch.Size([256])\n",
      "torch.Size([256, 1, 28, 28]) torch.Size([256])\n",
      "torch.Size([256, 1, 28, 28]) torch.Size([256])\n",
      "torch.Size([256, 1, 28, 28]) torch.Size([256])\n",
      "torch.Size([256, 1, 28, 28]) torch.Size([256])\n",
      "torch.Size([256, 1, 28, 28]) torch.Size([256])\n",
      "torch.Size([256, 1, 28, 28]) torch.Size([256])\n",
      "torch.Size([256, 1, 28, 28]) torch.Size([256])\n",
      "torch.Size([256, 1, 28, 28]) torch.Size([256])\n",
      "torch.Size([256, 1, 28, 28]) torch.Size([256])\n",
      "torch.Size([256, 1, 28, 28]) torch.Size([256])\n",
      "torch.Size([256, 1, 28, 28]) torch.Size([256])\n",
      "torch.Size([256, 1, 28, 28]) torch.Size([256])\n",
      "torch.Size([256, 1, 28, 28]) torch.Size([256])\n",
      "torch.Size([256, 1, 28, 28]) torch.Size([256])\n",
      "torch.Size([256, 1, 28, 28]) torch.Size([256])\n",
      "torch.Size([256, 1, 28, 28]) torch.Size([256])\n",
      "torch.Size([256, 1, 28, 28]) torch.Size([256])\n",
      "torch.Size([256, 1, 28, 28]) torch.Size([256])\n",
      "torch.Size([256, 1, 28, 28]) torch.Size([256])\n",
      "torch.Size([256, 1, 28, 28]) torch.Size([256])\n",
      "torch.Size([256, 1, 28, 28]) torch.Size([256])\n",
      "torch.Size([256, 1, 28, 28]) torch.Size([256])\n",
      "torch.Size([256, 1, 28, 28]) torch.Size([256])\n",
      "torch.Size([256, 1, 28, 28]) torch.Size([256])\n",
      "torch.Size([256, 1, 28, 28]) torch.Size([256])\n",
      "torch.Size([256, 1, 28, 28]) torch.Size([256])\n",
      "torch.Size([256, 1, 28, 28]) torch.Size([256])\n",
      "torch.Size([256, 1, 28, 28]) torch.Size([256])\n",
      "torch.Size([256, 1, 28, 28]) torch.Size([256])\n",
      "torch.Size([256, 1, 28, 28]) torch.Size([256])\n",
      "torch.Size([256, 1, 28, 28]) torch.Size([256])\n",
      "torch.Size([256, 1, 28, 28]) torch.Size([256])\n",
      "torch.Size([256, 1, 28, 28]) torch.Size([256])\n",
      "torch.Size([256, 1, 28, 28]) torch.Size([256])\n",
      "torch.Size([256, 1, 28, 28]) torch.Size([256])\n",
      "torch.Size([256, 1, 28, 28]) torch.Size([256])\n",
      "torch.Size([256, 1, 28, 28]) torch.Size([256])\n",
      "torch.Size([256, 1, 28, 28]) torch.Size([256])\n",
      "torch.Size([256, 1, 28, 28]) torch.Size([256])\n",
      "torch.Size([256, 1, 28, 28]) torch.Size([256])\n",
      "torch.Size([256, 1, 28, 28]) torch.Size([256])\n",
      "torch.Size([256, 1, 28, 28]) torch.Size([256])\n",
      "torch.Size([256, 1, 28, 28]) torch.Size([256])\n",
      "torch.Size([256, 1, 28, 28]) torch.Size([256])\n",
      "torch.Size([256, 1, 28, 28]) torch.Size([256])\n",
      "torch.Size([256, 1, 28, 28]) torch.Size([256])\n",
      "torch.Size([256, 1, 28, 28]) torch.Size([256])\n",
      "torch.Size([256, 1, 28, 28]) torch.Size([256])\n",
      "torch.Size([256, 1, 28, 28]) torch.Size([256])\n",
      "torch.Size([256, 1, 28, 28]) torch.Size([256])\n",
      "torch.Size([256, 1, 28, 28]) torch.Size([256])\n",
      "torch.Size([256, 1, 28, 28]) torch.Size([256])\n",
      "torch.Size([256, 1, 28, 28]) torch.Size([256])\n",
      "torch.Size([256, 1, 28, 28]) torch.Size([256])\n",
      "torch.Size([256, 1, 28, 28]) torch.Size([256])\n",
      "torch.Size([256, 1, 28, 28]) torch.Size([256])\n",
      "torch.Size([256, 1, 28, 28]) torch.Size([256])\n",
      "torch.Size([256, 1, 28, 28]) torch.Size([256])\n",
      "torch.Size([256, 1, 28, 28]) torch.Size([256])\n",
      "torch.Size([256, 1, 28, 28]) torch.Size([256])\n",
      "torch.Size([256, 1, 28, 28]) torch.Size([256])\n",
      "torch.Size([256, 1, 28, 28]) torch.Size([256])\n",
      "torch.Size([256, 1, 28, 28]) torch.Size([256])\n",
      "torch.Size([256, 1, 28, 28]) torch.Size([256])\n",
      "torch.Size([256, 1, 28, 28]) torch.Size([256])\n",
      "torch.Size([256, 1, 28, 28]) torch.Size([256])\n",
      "torch.Size([256, 1, 28, 28]) torch.Size([256])\n",
      "torch.Size([256, 1, 28, 28]) torch.Size([256])\n",
      "torch.Size([256, 1, 28, 28]) torch.Size([256])\n",
      "torch.Size([256, 1, 28, 28]) torch.Size([256])\n",
      "torch.Size([256, 1, 28, 28]) torch.Size([256])\n",
      "torch.Size([256, 1, 28, 28]) torch.Size([256])\n",
      "torch.Size([256, 1, 28, 28]) torch.Size([256])\n",
      "torch.Size([256, 1, 28, 28]) torch.Size([256])\n",
      "torch.Size([256, 1, 28, 28]) torch.Size([256])\n",
      "torch.Size([96, 1, 28, 28]) torch.Size([96])\n",
      "torch.Size([256, 1, 28, 28]) torch.Size([256])\n",
      "torch.Size([256, 1, 28, 28]) torch.Size([256])\n",
      "torch.Size([256, 1, 28, 28]) torch.Size([256])\n",
      "torch.Size([256, 1, 28, 28]) torch.Size([256])\n",
      "torch.Size([256, 1, 28, 28]) torch.Size([256])\n",
      "torch.Size([256, 1, 28, 28]) torch.Size([256])\n",
      "torch.Size([256, 1, 28, 28]) torch.Size([256])\n",
      "torch.Size([256, 1, 28, 28]) torch.Size([256])\n",
      "torch.Size([256, 1, 28, 28]) torch.Size([256])\n",
      "torch.Size([256, 1, 28, 28]) torch.Size([256])\n",
      "torch.Size([256, 1, 28, 28]) torch.Size([256])\n",
      "torch.Size([256, 1, 28, 28]) torch.Size([256])\n",
      "torch.Size([256, 1, 28, 28]) torch.Size([256])\n",
      "torch.Size([256, 1, 28, 28]) torch.Size([256])\n",
      "torch.Size([256, 1, 28, 28]) torch.Size([256])\n",
      "torch.Size([256, 1, 28, 28]) torch.Size([256])\n",
      "torch.Size([256, 1, 28, 28]) torch.Size([256])\n",
      "torch.Size([256, 1, 28, 28]) torch.Size([256])\n",
      "torch.Size([256, 1, 28, 28]) torch.Size([256])\n",
      "torch.Size([256, 1, 28, 28]) torch.Size([256])\n",
      "torch.Size([256, 1, 28, 28]) torch.Size([256])\n",
      "torch.Size([256, 1, 28, 28]) torch.Size([256])\n",
      "torch.Size([256, 1, 28, 28]) torch.Size([256])\n",
      "torch.Size([256, 1, 28, 28]) torch.Size([256])\n",
      "torch.Size([256, 1, 28, 28]) torch.Size([256])\n",
      "torch.Size([256, 1, 28, 28]) torch.Size([256])\n",
      "torch.Size([256, 1, 28, 28]) torch.Size([256])\n",
      "torch.Size([256, 1, 28, 28]) torch.Size([256])\n",
      "torch.Size([256, 1, 28, 28]) torch.Size([256])\n",
      "torch.Size([256, 1, 28, 28]) torch.Size([256])\n",
      "torch.Size([256, 1, 28, 28]) torch.Size([256])\n",
      "torch.Size([256, 1, 28, 28]) torch.Size([256])\n",
      "torch.Size([256, 1, 28, 28]) torch.Size([256])\n",
      "torch.Size([256, 1, 28, 28]) torch.Size([256])\n",
      "torch.Size([256, 1, 28, 28]) torch.Size([256])\n",
      "torch.Size([256, 1, 28, 28]) torch.Size([256])\n",
      "torch.Size([256, 1, 28, 28]) torch.Size([256])\n",
      "torch.Size([256, 1, 28, 28]) torch.Size([256])\n",
      "torch.Size([256, 1, 28, 28]) torch.Size([256])\n",
      "torch.Size([256, 1, 28, 28]) torch.Size([256])\n",
      "torch.Size([256, 1, 28, 28]) torch.Size([256])\n",
      "torch.Size([256, 1, 28, 28]) torch.Size([256])\n",
      "torch.Size([256, 1, 28, 28]) torch.Size([256])\n",
      "torch.Size([256, 1, 28, 28]) torch.Size([256])\n",
      "torch.Size([256, 1, 28, 28]) torch.Size([256])\n",
      "torch.Size([256, 1, 28, 28]) torch.Size([256])\n",
      "torch.Size([256, 1, 28, 28]) torch.Size([256])\n",
      "torch.Size([256, 1, 28, 28]) torch.Size([256])\n",
      "torch.Size([256, 1, 28, 28]) torch.Size([256])\n",
      "torch.Size([256, 1, 28, 28]) torch.Size([256])\n",
      "torch.Size([256, 1, 28, 28]) torch.Size([256])\n",
      "torch.Size([256, 1, 28, 28]) torch.Size([256])\n",
      "torch.Size([256, 1, 28, 28]) torch.Size([256])\n",
      "torch.Size([256, 1, 28, 28]) torch.Size([256])\n",
      "torch.Size([256, 1, 28, 28]) torch.Size([256])\n",
      "torch.Size([256, 1, 28, 28]) torch.Size([256])\n",
      "torch.Size([256, 1, 28, 28]) torch.Size([256])\n",
      "torch.Size([256, 1, 28, 28]) torch.Size([256])\n"
     ]
    },
    {
     "name": "stdout",
     "output_type": "stream",
     "text": [
      "torch.Size([256, 1, 28, 28]) torch.Size([256])\n",
      "torch.Size([256, 1, 28, 28]) torch.Size([256])\n",
      "torch.Size([256, 1, 28, 28]) torch.Size([256])\n",
      "torch.Size([256, 1, 28, 28]) torch.Size([256])\n",
      "torch.Size([256, 1, 28, 28]) torch.Size([256])\n",
      "torch.Size([256, 1, 28, 28]) torch.Size([256])\n",
      "torch.Size([256, 1, 28, 28]) torch.Size([256])\n",
      "torch.Size([256, 1, 28, 28]) torch.Size([256])\n",
      "torch.Size([256, 1, 28, 28]) torch.Size([256])\n",
      "torch.Size([256, 1, 28, 28]) torch.Size([256])\n",
      "torch.Size([256, 1, 28, 28]) torch.Size([256])\n",
      "torch.Size([256, 1, 28, 28]) torch.Size([256])\n",
      "torch.Size([256, 1, 28, 28]) torch.Size([256])\n",
      "torch.Size([256, 1, 28, 28]) torch.Size([256])\n",
      "torch.Size([256, 1, 28, 28]) torch.Size([256])\n",
      "torch.Size([256, 1, 28, 28]) torch.Size([256])\n",
      "torch.Size([256, 1, 28, 28]) torch.Size([256])\n",
      "torch.Size([256, 1, 28, 28]) torch.Size([256])\n",
      "torch.Size([256, 1, 28, 28]) torch.Size([256])\n",
      "torch.Size([256, 1, 28, 28]) torch.Size([256])\n",
      "torch.Size([256, 1, 28, 28]) torch.Size([256])\n",
      "torch.Size([256, 1, 28, 28]) torch.Size([256])\n",
      "torch.Size([256, 1, 28, 28]) torch.Size([256])\n",
      "torch.Size([256, 1, 28, 28]) torch.Size([256])\n",
      "torch.Size([256, 1, 28, 28]) torch.Size([256])\n",
      "torch.Size([256, 1, 28, 28]) torch.Size([256])\n",
      "torch.Size([256, 1, 28, 28]) torch.Size([256])\n",
      "torch.Size([256, 1, 28, 28]) torch.Size([256])\n",
      "torch.Size([256, 1, 28, 28]) torch.Size([256])\n",
      "torch.Size([256, 1, 28, 28]) torch.Size([256])\n",
      "torch.Size([256, 1, 28, 28]) torch.Size([256])\n",
      "torch.Size([256, 1, 28, 28]) torch.Size([256])\n",
      "torch.Size([256, 1, 28, 28]) torch.Size([256])\n",
      "torch.Size([256, 1, 28, 28]) torch.Size([256])\n",
      "torch.Size([256, 1, 28, 28]) torch.Size([256])\n",
      "torch.Size([256, 1, 28, 28]) torch.Size([256])\n",
      "torch.Size([256, 1, 28, 28]) torch.Size([256])\n",
      "torch.Size([256, 1, 28, 28]) torch.Size([256])\n",
      "torch.Size([256, 1, 28, 28]) torch.Size([256])\n",
      "torch.Size([256, 1, 28, 28]) torch.Size([256])\n",
      "torch.Size([256, 1, 28, 28]) torch.Size([256])\n",
      "torch.Size([256, 1, 28, 28]) torch.Size([256])\n",
      "torch.Size([256, 1, 28, 28]) torch.Size([256])\n",
      "torch.Size([256, 1, 28, 28]) torch.Size([256])\n",
      "torch.Size([256, 1, 28, 28]) torch.Size([256])\n",
      "torch.Size([256, 1, 28, 28]) torch.Size([256])\n",
      "torch.Size([256, 1, 28, 28]) torch.Size([256])\n",
      "torch.Size([256, 1, 28, 28]) torch.Size([256])\n",
      "torch.Size([256, 1, 28, 28]) torch.Size([256])\n",
      "torch.Size([256, 1, 28, 28]) torch.Size([256])\n",
      "torch.Size([256, 1, 28, 28]) torch.Size([256])\n",
      "torch.Size([256, 1, 28, 28]) torch.Size([256])\n",
      "torch.Size([256, 1, 28, 28]) torch.Size([256])\n",
      "torch.Size([256, 1, 28, 28]) torch.Size([256])\n",
      "torch.Size([256, 1, 28, 28]) torch.Size([256])\n",
      "torch.Size([256, 1, 28, 28]) torch.Size([256])\n",
      "torch.Size([256, 1, 28, 28]) torch.Size([256])\n",
      "torch.Size([256, 1, 28, 28]) torch.Size([256])\n",
      "torch.Size([256, 1, 28, 28]) torch.Size([256])\n",
      "torch.Size([256, 1, 28, 28]) torch.Size([256])\n",
      "torch.Size([256, 1, 28, 28]) torch.Size([256])\n",
      "torch.Size([256, 1, 28, 28]) torch.Size([256])\n",
      "torch.Size([256, 1, 28, 28]) torch.Size([256])\n",
      "torch.Size([256, 1, 28, 28]) torch.Size([256])\n",
      "torch.Size([256, 1, 28, 28]) torch.Size([256])\n",
      "torch.Size([256, 1, 28, 28]) torch.Size([256])\n",
      "torch.Size([256, 1, 28, 28]) torch.Size([256])\n",
      "torch.Size([256, 1, 28, 28]) torch.Size([256])\n",
      "torch.Size([256, 1, 28, 28]) torch.Size([256])\n",
      "torch.Size([256, 1, 28, 28]) torch.Size([256])\n",
      "torch.Size([256, 1, 28, 28]) torch.Size([256])\n",
      "torch.Size([256, 1, 28, 28]) torch.Size([256])\n",
      "torch.Size([256, 1, 28, 28]) torch.Size([256])\n",
      "torch.Size([256, 1, 28, 28]) torch.Size([256])\n",
      "torch.Size([256, 1, 28, 28]) torch.Size([256])\n",
      "torch.Size([256, 1, 28, 28]) torch.Size([256])\n",
      "torch.Size([256, 1, 28, 28]) torch.Size([256])\n",
      "torch.Size([256, 1, 28, 28]) torch.Size([256])\n",
      "torch.Size([256, 1, 28, 28]) torch.Size([256])\n",
      "torch.Size([256, 1, 28, 28]) torch.Size([256])\n",
      "torch.Size([256, 1, 28, 28]) torch.Size([256])\n",
      "torch.Size([256, 1, 28, 28]) torch.Size([256])\n",
      "torch.Size([256, 1, 28, 28]) torch.Size([256])\n",
      "torch.Size([256, 1, 28, 28]) torch.Size([256])\n",
      "torch.Size([256, 1, 28, 28]) torch.Size([256])\n",
      "torch.Size([256, 1, 28, 28]) torch.Size([256])\n",
      "torch.Size([256, 1, 28, 28]) torch.Size([256])\n",
      "torch.Size([256, 1, 28, 28]) torch.Size([256])\n",
      "torch.Size([256, 1, 28, 28]) torch.Size([256])\n",
      "torch.Size([256, 1, 28, 28]) torch.Size([256])\n",
      "torch.Size([256, 1, 28, 28]) torch.Size([256])\n",
      "torch.Size([256, 1, 28, 28]) torch.Size([256])\n",
      "torch.Size([256, 1, 28, 28]) torch.Size([256])\n",
      "torch.Size([256, 1, 28, 28]) torch.Size([256])\n",
      "torch.Size([256, 1, 28, 28]) torch.Size([256])\n",
      "torch.Size([256, 1, 28, 28]) torch.Size([256])\n",
      "torch.Size([256, 1, 28, 28]) torch.Size([256])\n",
      "torch.Size([256, 1, 28, 28]) torch.Size([256])\n",
      "torch.Size([256, 1, 28, 28]) torch.Size([256])\n",
      "torch.Size([256, 1, 28, 28]) torch.Size([256])\n",
      "torch.Size([256, 1, 28, 28]) torch.Size([256])\n",
      "torch.Size([256, 1, 28, 28]) torch.Size([256])\n",
      "torch.Size([256, 1, 28, 28]) torch.Size([256])\n",
      "torch.Size([256, 1, 28, 28]) torch.Size([256])\n",
      "torch.Size([256, 1, 28, 28]) torch.Size([256])\n",
      "torch.Size([256, 1, 28, 28]) torch.Size([256])\n",
      "torch.Size([256, 1, 28, 28]) torch.Size([256])\n",
      "torch.Size([256, 1, 28, 28]) torch.Size([256])\n",
      "torch.Size([256, 1, 28, 28]) torch.Size([256])\n",
      "torch.Size([256, 1, 28, 28]) torch.Size([256])\n",
      "torch.Size([256, 1, 28, 28]) torch.Size([256])\n",
      "torch.Size([256, 1, 28, 28]) torch.Size([256])\n",
      "torch.Size([256, 1, 28, 28]) torch.Size([256])\n",
      "torch.Size([256, 1, 28, 28]) torch.Size([256])\n",
      "torch.Size([256, 1, 28, 28]) torch.Size([256])\n",
      "torch.Size([256, 1, 28, 28]) torch.Size([256])\n",
      "torch.Size([256, 1, 28, 28]) torch.Size([256])\n",
      "torch.Size([256, 1, 28, 28]) torch.Size([256])\n",
      "torch.Size([256, 1, 28, 28]) torch.Size([256])\n",
      "torch.Size([256, 1, 28, 28]) torch.Size([256])\n",
      "torch.Size([256, 1, 28, 28]) torch.Size([256])\n",
      "torch.Size([256, 1, 28, 28]) torch.Size([256])\n",
      "torch.Size([256, 1, 28, 28]) torch.Size([256])\n",
      "torch.Size([256, 1, 28, 28]) torch.Size([256])\n",
      "torch.Size([256, 1, 28, 28]) torch.Size([256])\n",
      "torch.Size([256, 1, 28, 28]) torch.Size([256])\n",
      "torch.Size([256, 1, 28, 28]) torch.Size([256])\n",
      "torch.Size([256, 1, 28, 28]) torch.Size([256])\n",
      "torch.Size([256, 1, 28, 28]) torch.Size([256])\n",
      "torch.Size([256, 1, 28, 28]) torch.Size([256])\n",
      "torch.Size([256, 1, 28, 28]) torch.Size([256])\n",
      "torch.Size([256, 1, 28, 28]) torch.Size([256])\n",
      "torch.Size([256, 1, 28, 28]) torch.Size([256])\n",
      "torch.Size([256, 1, 28, 28]) torch.Size([256])\n",
      "torch.Size([256, 1, 28, 28]) torch.Size([256])\n",
      "torch.Size([256, 1, 28, 28]) torch.Size([256])\n",
      "torch.Size([256, 1, 28, 28]) torch.Size([256])\n",
      "torch.Size([256, 1, 28, 28]) torch.Size([256])\n",
      "torch.Size([256, 1, 28, 28]) torch.Size([256])\n",
      "torch.Size([256, 1, 28, 28]) torch.Size([256])\n",
      "torch.Size([256, 1, 28, 28]) torch.Size([256])\n",
      "torch.Size([256, 1, 28, 28]) torch.Size([256])\n",
      "torch.Size([256, 1, 28, 28]) torch.Size([256])\n",
      "torch.Size([256, 1, 28, 28]) torch.Size([256])\n",
      "torch.Size([256, 1, 28, 28]) torch.Size([256])\n",
      "torch.Size([256, 1, 28, 28]) torch.Size([256])\n",
      "torch.Size([256, 1, 28, 28]) torch.Size([256])\n",
      "torch.Size([256, 1, 28, 28]) torch.Size([256])\n",
      "torch.Size([256, 1, 28, 28]) torch.Size([256])\n",
      "torch.Size([256, 1, 28, 28]) torch.Size([256])\n",
      "torch.Size([256, 1, 28, 28]) torch.Size([256])\n",
      "torch.Size([256, 1, 28, 28]) torch.Size([256])\n",
      "torch.Size([256, 1, 28, 28]) torch.Size([256])\n",
      "torch.Size([256, 1, 28, 28]) torch.Size([256])\n",
      "torch.Size([256, 1, 28, 28]) torch.Size([256])\n",
      "torch.Size([256, 1, 28, 28]) torch.Size([256])\n",
      "torch.Size([256, 1, 28, 28]) torch.Size([256])\n",
      "torch.Size([256, 1, 28, 28]) torch.Size([256])\n",
      "torch.Size([256, 1, 28, 28]) torch.Size([256])\n",
      "torch.Size([256, 1, 28, 28]) torch.Size([256])\n",
      "torch.Size([256, 1, 28, 28]) torch.Size([256])\n",
      "torch.Size([256, 1, 28, 28]) torch.Size([256])\n",
      "torch.Size([256, 1, 28, 28]) torch.Size([256])\n",
      "torch.Size([256, 1, 28, 28]) torch.Size([256])\n",
      "torch.Size([256, 1, 28, 28]) torch.Size([256])\n",
      "torch.Size([256, 1, 28, 28]) torch.Size([256])\n",
      "torch.Size([256, 1, 28, 28]) torch.Size([256])\n",
      "torch.Size([256, 1, 28, 28]) torch.Size([256])\n",
      "torch.Size([256, 1, 28, 28]) torch.Size([256])\n",
      "torch.Size([256, 1, 28, 28]) torch.Size([256])\n",
      "torch.Size([256, 1, 28, 28]) torch.Size([256])\n",
      "torch.Size([256, 1, 28, 28]) torch.Size([256])\n",
      "torch.Size([256, 1, 28, 28]) torch.Size([256])\n",
      "torch.Size([256, 1, 28, 28]) torch.Size([256])\n",
      "torch.Size([256, 1, 28, 28]) torch.Size([256])\n",
      "torch.Size([256, 1, 28, 28]) torch.Size([256])\n",
      "torch.Size([96, 1, 28, 28]) torch.Size([96])\n"
     ]
    }
   ],
   "source": [
    "counter = 0\n",
    "for epoch in [1,2,3]:\n",
    "    for batch, label in ds_loader:\n",
    "        if counter == 0:\n",
    "            print(batch, label)\n",
    "            counter+=1\n",
    "        print(batch.size(), label.size())"
   ]
  },
  {
   "cell_type": "markdown",
   "id": "80a8ab3f",
   "metadata": {},
   "source": [
    "#### Как мы видим, данные загрузились корректно "
   ]
  },
  {
   "cell_type": "markdown",
   "id": "7b189ad6",
   "metadata": {},
   "source": [
    "#### Обучаем теперь на кастомных данных и смотрим, что получилось"
   ]
  },
  {
   "cell_type": "code",
   "execution_count": 342,
   "id": "8130da4f",
   "metadata": {},
   "outputs": [],
   "source": [
    "model_cnn2 = VAE_CNN().to(device)\n",
    "optimizer_cnn2 = torch.optim.Adam(model_cnn2.parameters(), lr=3e-4)\n",
    "num_epochs = 100"
   ]
  },
  {
   "cell_type": "code",
   "execution_count": 343,
   "id": "b6c944c8",
   "metadata": {},
   "outputs": [
    {
     "name": "stderr",
     "output_type": "stream",
     "text": [
      "0it [00:00, ?it/s]C:\\Users\\te200\\anaconda3\\envs\\pytorch_env\\Lib\\site-packages\\torch\\nn\\_reduction.py:42: UserWarning: size_average and reduce args will be deprecated, please use reduction='sum' instead.\n",
      "  warnings.warn(warning.format(ret))\n",
      "235it [00:07, 30.70it/s]\n",
      "235it [00:08, 28.94it/s]\n",
      "235it [00:05, 41.54it/s]\n",
      "235it [00:08, 27.76it/s]\n",
      "235it [00:06, 37.02it/s]\n",
      "235it [00:06, 35.54it/s]\n",
      "235it [00:07, 32.16it/s]\n",
      "235it [00:07, 31.96it/s]\n",
      "235it [00:07, 29.71it/s]\n",
      "235it [00:12, 19.53it/s]\n",
      "235it [00:13, 17.85it/s]\n",
      "235it [00:14, 16.16it/s]\n",
      "235it [00:13, 16.82it/s]\n",
      "235it [00:10, 22.89it/s]\n",
      "235it [00:15, 15.41it/s]\n",
      "235it [00:09, 24.75it/s]\n",
      "235it [00:10, 22.62it/s]\n",
      "235it [00:13, 16.99it/s]\n",
      "235it [00:10, 23.24it/s]\n",
      "235it [00:11, 20.06it/s]\n",
      "235it [00:14, 15.77it/s]\n",
      "235it [00:17, 13.25it/s]\n",
      "235it [00:09, 25.13it/s]\n",
      "235it [00:17, 13.06it/s]\n",
      "235it [00:12, 18.55it/s]\n",
      "235it [00:12, 18.50it/s]\n",
      "235it [00:14, 16.45it/s]\n",
      "235it [00:12, 18.88it/s]\n",
      "235it [00:13, 17.87it/s]\n",
      "235it [00:14, 16.35it/s]\n",
      "235it [00:16, 14.06it/s]\n",
      "235it [00:10, 21.74it/s]\n",
      "235it [00:15, 14.84it/s]\n",
      "235it [00:13, 17.16it/s]\n",
      "235it [00:13, 16.83it/s]\n",
      "235it [00:12, 18.20it/s]\n",
      "235it [00:11, 19.95it/s]\n",
      "235it [00:12, 19.09it/s]\n",
      "235it [00:18, 12.89it/s]\n",
      "235it [00:12, 18.65it/s]\n",
      "235it [00:13, 16.89it/s]\n",
      "235it [00:12, 19.14it/s]\n",
      "235it [00:14, 16.69it/s]\n",
      "235it [00:21, 11.10it/s]\n",
      "235it [00:10, 22.51it/s]\n",
      "235it [00:21, 11.10it/s]\n",
      "235it [00:10, 23.19it/s]\n",
      "235it [00:15, 14.77it/s]\n",
      "235it [00:13, 16.89it/s]\n",
      "235it [00:13, 17.64it/s]\n",
      "235it [00:11, 19.65it/s]\n",
      "235it [00:21, 10.76it/s]\n",
      "235it [00:13, 16.81it/s]\n",
      "235it [00:19, 11.84it/s]\n",
      "235it [00:10, 22.89it/s]\n",
      "235it [00:14, 16.09it/s]\n",
      "235it [00:16, 14.05it/s]\n",
      "235it [00:11, 20.36it/s]\n",
      "235it [00:14, 15.94it/s]\n",
      "235it [00:20, 11.58it/s]\n",
      "235it [00:14, 16.27it/s]\n",
      "235it [00:12, 19.06it/s]\n",
      "235it [00:11, 21.33it/s]\n",
      "235it [00:16, 14.01it/s]\n",
      "235it [00:18, 12.70it/s]\n",
      "235it [00:10, 23.21it/s]\n",
      "235it [00:12, 18.80it/s]\n",
      "235it [00:13, 17.66it/s]\n",
      "235it [00:17, 13.63it/s]\n",
      "235it [00:11, 21.30it/s]\n",
      "235it [00:13, 18.01it/s]\n",
      "235it [00:13, 18.07it/s]\n",
      "235it [00:17, 13.55it/s]\n",
      "235it [00:21, 10.93it/s]\n",
      "235it [00:12, 18.33it/s]\n",
      "235it [00:12, 19.05it/s]\n",
      "235it [00:11, 20.63it/s]\n",
      "235it [00:15, 15.43it/s]\n",
      "235it [00:18, 12.72it/s]\n",
      "235it [00:11, 19.82it/s]\n",
      "235it [00:13, 17.07it/s]\n",
      "235it [00:11, 21.29it/s]\n",
      "235it [00:19, 12.18it/s]\n",
      "235it [00:10, 23.15it/s]\n",
      "235it [00:25,  9.22it/s]\n",
      "235it [00:09, 24.07it/s]\n",
      "235it [00:15, 14.73it/s]\n",
      "235it [00:10, 23.30it/s]\n",
      "235it [00:13, 17.68it/s]\n",
      "235it [00:12, 18.87it/s]\n",
      "235it [00:10, 21.53it/s]\n",
      "235it [00:17, 13.46it/s]\n",
      "235it [00:10, 23.28it/s]\n",
      "235it [00:15, 15.02it/s]\n",
      "235it [00:13, 17.13it/s]\n",
      "235it [00:15, 14.84it/s]\n",
      "235it [00:16, 14.02it/s]\n",
      "235it [00:12, 18.13it/s]\n",
      "235it [00:22, 10.36it/s]\n",
      "235it [00:13, 17.02it/s]\n"
     ]
    }
   ],
   "source": [
    "for epoch in range(num_epochs):\n",
    "    loop = tqdm.tqdm(enumerate(ds_loader))\n",
    "    for i, (img, _) in loop:\n",
    "        img = img.to(device)\n",
    "        recon_images, mu, sigma = model_cnn2(img)\n",
    "        loss, bce, kld = loss_func(recon_images, img, mu, sigma)\n",
    "        optimizer_cnn2.zero_grad()\n",
    "        loss.backward()\n",
    "        optimizer_cnn2.step()\n",
    "        \n",
    "        wandb.log({\"Loss\": loss, \"bce\": bce, \"kld\": kld})\n",
    "        "
   ]
  },
  {
   "cell_type": "code",
   "execution_count": 341,
   "id": "51944145",
   "metadata": {},
   "outputs": [
    {
     "data": {
      "text/html": [
       "Finishing last run (ID:x3homr6c) before initializing another..."
      ],
      "text/plain": [
       "<IPython.core.display.HTML object>"
      ]
     },
     "metadata": {},
     "output_type": "display_data"
    },
    {
     "data": {
      "text/html": [
       "<style>\n",
       "    table.wandb td:nth-child(1) { padding: 0 10px; text-align: left ; width: auto;} td:nth-child(2) {text-align: left ; width: 100%}\n",
       "    .wandb-row { display: flex; flex-direction: row; flex-wrap: wrap; justify-content: flex-start; width: 100% }\n",
       "    .wandb-col { display: flex; flex-direction: column; flex-basis: 100%; flex: 1; padding: 10px; }\n",
       "    </style>\n",
       "<div class=\"wandb-row\"><div class=\"wandb-col\"><h3>Run history:</h3><br/><table class=\"wandb\"><tr><td>Loss</td><td>█▅▅▄▃▃▂▂▂▂▂▂▂▂▂▁▁▁▁▁▁▁▁▁▁▁▁▁▁▁▁▁▁▁▁▁▁▁▁▁</td></tr><tr><td>bce</td><td>█▅▅▄▃▃▂▂▂▂▂▂▂▂▂▁▁▁▁▁▁▁▁▁▁▁▁▁▁▁▁▁▁▁▁▁▁▁▁▁</td></tr><tr><td>kld</td><td>▁▇▇█▅▄▄▄▄▄▄▄▃▃▃▃▃▃▃▃▃▃▂▂▂▂▂▂▂▂▂▂▂▂▂▂▂▂▂▂</td></tr></table><br/></div><div class=\"wandb-col\"><h3>Run summary:</h3><br/><table class=\"wandb\"><tr><td>Loss</td><td>6535.93066</td></tr><tr><td>bce</td><td>6506.98389</td></tr><tr><td>kld</td><td>28.94699</td></tr></table><br/></div></div>"
      ],
      "text/plain": [
       "<IPython.core.display.HTML object>"
      ]
     },
     "metadata": {},
     "output_type": "display_data"
    },
    {
     "data": {
      "text/html": [
       " View run <strong style=\"color:#cdcd00\">olive-violet-4</strong> at: <a href='https://wandb.ai/te200228/uncategorized/runs/x3homr6c' target=\"_blank\">https://wandb.ai/te200228/uncategorized/runs/x3homr6c</a><br/>Synced 6 W&B file(s), 0 media file(s), 0 artifact file(s) and 0 other file(s)"
      ],
      "text/plain": [
       "<IPython.core.display.HTML object>"
      ]
     },
     "metadata": {},
     "output_type": "display_data"
    },
    {
     "data": {
      "text/html": [
       "Find logs at: <code>.\\wandb\\run-20240201_014755-x3homr6c\\logs</code>"
      ],
      "text/plain": [
       "<IPython.core.display.HTML object>"
      ]
     },
     "metadata": {},
     "output_type": "display_data"
    },
    {
     "data": {
      "text/html": [
       "Successfully finished last run (ID:x3homr6c). Initializing new run:<br/>"
      ],
      "text/plain": [
       "<IPython.core.display.HTML object>"
      ]
     },
     "metadata": {},
     "output_type": "display_data"
    },
    {
     "data": {
      "text/html": [
       "Tracking run with wandb version 0.16.2"
      ],
      "text/plain": [
       "<IPython.core.display.HTML object>"
      ]
     },
     "metadata": {},
     "output_type": "display_data"
    },
    {
     "data": {
      "text/html": [
       "Run data is saved locally in <code>C:\\Users\\te200\\ML\\ML_task2_Kravchenko_Timofey\\wandb\\run-20240201_022614-adg9151j</code>"
      ],
      "text/plain": [
       "<IPython.core.display.HTML object>"
      ]
     },
     "metadata": {},
     "output_type": "display_data"
    },
    {
     "data": {
      "text/html": [
       "Syncing run <strong><a href='https://wandb.ai/te200228/uncategorized/runs/adg9151j' target=\"_blank\">playful-puddle-5</a></strong> to <a href='https://wandb.ai/te200228/uncategorized' target=\"_blank\">Weights & Biases</a> (<a href='https://wandb.me/run' target=\"_blank\">docs</a>)<br/>"
      ],
      "text/plain": [
       "<IPython.core.display.HTML object>"
      ]
     },
     "metadata": {},
     "output_type": "display_data"
    },
    {
     "data": {
      "text/html": [
       " View project at <a href='https://wandb.ai/te200228/uncategorized' target=\"_blank\">https://wandb.ai/te200228/uncategorized</a>"
      ],
      "text/plain": [
       "<IPython.core.display.HTML object>"
      ]
     },
     "metadata": {},
     "output_type": "display_data"
    },
    {
     "data": {
      "text/html": [
       " View run at <a href='https://wandb.ai/te200228/uncategorized/runs/adg9151j' target=\"_blank\">https://wandb.ai/te200228/uncategorized/runs/adg9151j</a>"
      ],
      "text/plain": [
       "<IPython.core.display.HTML object>"
      ]
     },
     "metadata": {},
     "output_type": "display_data"
    },
    {
     "data": {
      "text/html": [
       "<button onClick=\"this.nextSibling.style.display='block';this.style.display='none';\">Display W&B run</button><iframe src='https://wandb.ai/te200228/uncategorized/runs/adg9151j?jupyter=true' style='border:none;width:100%;height:420px;display:none;'></iframe>"
      ],
      "text/plain": [
       "<wandb.sdk.wandb_run.Run at 0x1a122e4e190>"
      ]
     },
     "execution_count": 341,
     "metadata": {},
     "output_type": "execute_result"
    }
   ],
   "source": [
    "wandb.init()"
   ]
  },
  {
   "cell_type": "code",
   "execution_count": 344,
   "id": "865c382b",
   "metadata": {},
   "outputs": [],
   "source": [
    "model_cnn2 = model_cnn2.to(\"cpu\")"
   ]
  },
  {
   "cell_type": "code",
   "execution_count": 345,
   "id": "3b2f1704",
   "metadata": {},
   "outputs": [],
   "source": [
    "def compare2(x: torch.tensor) -> torch.tensor:\n",
    "    recon_x, _, _ = model_cnn2(x)\n",
    "    return torch.cat([x, recon_x])"
   ]
  },
  {
   "cell_type": "code",
   "execution_count": 369,
   "id": "8c8c2829",
   "metadata": {},
   "outputs": [
    {
     "data": {
      "image/png": "[encoded data removed]",
      "text/plain": [
       "<IPython.core.display.Image object>"
      ]
     },
     "metadata": {
      "image/png": {
       "unconfined": true,
       "width": 700
      }
     },
     "output_type": "display_data"
    }
   ],
   "source": [
    "fixed_x = ds[randint(1, num_epochs)][0].unsqueeze(0).view(1,1,28,28)\n",
    "compare_x2 = compare2(fixed_x)\n",
    "\n",
    "save_image(compare_x2.data.cpu(), 'sample_image.png')\n",
    "display(Image('sample_image.png', width=700, unconfined=True))"
   ]
  },
  {
   "cell_type": "markdown",
   "id": "994b6a0d",
   "metadata": {},
   "source": [
    "#### Как мы можем заметить, модель также отлично показывает себя и на нашем кастомном датасете. Кроме того, можно заметить, что на одну эпоху уходит в 2-3 раза меньше времени, следовательно можно сделать вывод, что кастомный датасет позволяет увеличить скорость обучения засчет более быстрого обращения к ОЗУ. График функции потерь также не показывает каких либо выбросов, поэтому монжо сделать вывод, что модель работает корректно "
   ]
  },
  {
   "cell_type": "markdown",
   "id": "acc43696",
   "metadata": {},
   "source": [
    "#### В этом задании я разобрался с VAE, научился создавать кастомный датасет, что мегаважно при работе с настоящими проектами, а также применил несколько вариаций VAE и попробовал wandb. Всем хорошего настроения, а я пошел спать 🌌"
   ]
  },
  {
   "cell_type": "markdown",
   "id": "adc2e61f",
   "metadata": {},
   "source": [
    "#### Создадим еще один кастомный датасет, но на этот раз будем работать с цветными изображениями покемонов. \n",
    "#### Первым делом нужно увеличить количество сэмплов, так как в датасете всего 809 покоменов, \n",
    "#### поэтому зададим пару трансформеров и произведем аугментацию датасета"
   ]
  },
  {
   "cell_type": "code",
   "execution_count": 280,
   "id": "a0538291",
   "metadata": {},
   "outputs": [],
   "source": [
    "# Здесь мы преобразуем наш numpy.narray в картинку, изменяем размер, переворачиваем, добавляем фильтры и преобразуем в тензор\n",
    "transforms_version1 = torchvision.transforms.Compose([\n",
    "    torchvision.transforms.ToPILImage(),\n",
    "    torchvision.transforms.Resize((28,28)),\n",
    "    torchvision.transforms.ColorJitter(hue=.05, saturation=.05),\n",
    "    torchvision.transforms.RandomHorizontalFlip(),\n",
    "    torchvision.transforms.RandomRotation(20),\n",
    "    torchvision.transforms.ToTensor()\n",
    "])"
   ]
  },
  {
   "cell_type": "code",
   "execution_count": 281,
   "id": "1f46e0e9",
   "metadata": {},
   "outputs": [],
   "source": [
    "transforms_version2 = torchvision.transforms.Compose([\n",
    "    torchvision.transforms.ToPILImage(),\n",
    "    torchvision.transforms.Resize((28,28)),\n",
    "    torchvision.transforms.ColorJitter(hue=.07, saturation=.07),\n",
    "    torchvision.transforms.RandomVerticalFlip(),\n",
    "    torchvision.transforms.RandomRotation(30),\n",
    "    torchvision.transforms.ToTensor()\n",
    "])"
   ]
  },
  {
   "cell_type": "code",
   "execution_count": 175,
   "id": "7de319a3",
   "metadata": {},
   "outputs": [],
   "source": [
    "batch_size = 32"
   ]
  },
  {
   "cell_type": "markdown",
   "id": "82441de9",
   "metadata": {},
   "source": [
    "#### Тут у нас считывается csv файл, в котором первая колонка - это названия картинок с форматом, а вторая - это метки классов. Считываем из данного файла поочередно названия, испаользуем их для нахождения путей до картинок, загружаем их в формате 'RGBA', передаем все в трансформер и преобразуем"
   ]
  },
  {
   "cell_type": "code",
   "execution_count": 269,
   "id": "7a563c10",
   "metadata": {},
   "outputs": [],
   "source": [
    "class CustomDataset(Dataset):\n",
    "  def __init__(self, csv_file : str, root_dir: str, transform = None):\n",
    "    self.annotations = pd.read_csv(csv_file)\n",
    "    self.root_dir = root_dir\n",
    "    self.transform = transform\n",
    "  def __len__(self) -> int:\n",
    "    return len(self.annotations)\n",
    "  \n",
    "  def __getitem__(self,index: int) -> tuple:\n",
    "        img_path = os.path.join(self.root_dir, self.annotations.iloc[index,0])\n",
    "        image = io.imread(img_path, pilmode='RGBA')\n",
    "        y_label = torch.tensor(int(self.annotations.iloc[index,2]))\n",
    "        \n",
    "        if self.transform:\n",
    "            image = self.transform(image)\n",
    "            \n",
    "        return (image, y_label)\n",
    "        "
   ]
  },
  {
   "cell_type": "markdown",
   "id": "11fb28fd",
   "metadata": {},
   "source": [
    "#### Загружаем данные, аугментируем их, передаем в лоадер и смотрим, что у нас получилось"
   ]
  },
  {
   "cell_type": "code",
   "execution_count": 270,
   "id": "cb70bc11",
   "metadata": {},
   "outputs": [],
   "source": [
    "dataset_pokemons_basic = CustomDataset(csv_file = 'pokemon.csv', root_dir = 'images', transform = torchvision.transforms.Compose([torchvision.transforms.ToTensor(),\n",
    "    torchvision.transforms.Resize(28)\n",
    "]))"
   ]
  },
  {
   "cell_type": "code",
   "execution_count": 282,
   "id": "c2471ab1",
   "metadata": {},
   "outputs": [],
   "source": [
    "def augmentation(times = 3):\n",
    "    for time in range(times):\n",
    "        tmp_1 = dataset_pokemons_transformed = CustomDataset(csv_file = 'pokemon.csv', root_dir = 'images', transform = transforms_version1)\n",
    "        tmp_2 = dataset_pokemons_transformed = CustomDataset(csv_file = 'pokemon.csv', root_dir = 'images', transform = transforms_version2)\n",
    "        if time == 0:\n",
    "            tmp_total = torch.utils.data.ConcatDataset([tmp_1,tmp_2])\n",
    "        else:\n",
    "            tmp_total = torch.utils.data.ConcatDataset([tmp_total,tmp_1,tmp_2])\n",
    "    return torch.utils.data.ConcatDataset([tmp_total, dataset_pokemons_basic])"
   ]
  },
  {
   "cell_type": "code",
   "execution_count": 283,
   "id": "0dfa83f1",
   "metadata": {},
   "outputs": [],
   "source": [
    "dataset_pokemons_total = augmentation()"
   ]
  },
  {
   "cell_type": "code",
   "execution_count": 284,
   "id": "acc1d027",
   "metadata": {},
   "outputs": [
    {
     "data": {
      "text/plain": [
       "5656"
      ]
     },
     "execution_count": 284,
     "metadata": {},
     "output_type": "execute_result"
    }
   ],
   "source": [
    "dataset_pokemons_total.__len__()"
   ]
  },
  {
   "cell_type": "code",
   "execution_count": 285,
   "id": "0be3cd31",
   "metadata": {},
   "outputs": [
    {
     "name": "stdout",
     "output_type": "stream",
     "text": [
      "2\n",
      "(tensor([[[0., 0., 0.,  ..., 0., 0., 0.],\n",
      "         [0., 0., 0.,  ..., 0., 0., 0.],\n",
      "         [0., 0., 0.,  ..., 0., 0., 0.],\n",
      "         ...,\n",
      "         [0., 0., 0.,  ..., 0., 0., 0.],\n",
      "         [0., 0., 0.,  ..., 0., 0., 0.],\n",
      "         [0., 0., 0.,  ..., 0., 0., 0.]],\n",
      "\n",
      "        [[0., 0., 0.,  ..., 0., 0., 0.],\n",
      "         [0., 0., 0.,  ..., 0., 0., 0.],\n",
      "         [0., 0., 0.,  ..., 0., 0., 0.],\n",
      "         ...,\n",
      "         [0., 0., 0.,  ..., 0., 0., 0.],\n",
      "         [0., 0., 0.,  ..., 0., 0., 0.],\n",
      "         [0., 0., 0.,  ..., 0., 0., 0.]],\n",
      "\n",
      "        [[0., 0., 0.,  ..., 0., 0., 0.],\n",
      "         [0., 0., 0.,  ..., 0., 0., 0.],\n",
      "         [0., 0., 0.,  ..., 0., 0., 0.],\n",
      "         ...,\n",
      "         [0., 0., 0.,  ..., 0., 0., 0.],\n",
      "         [0., 0., 0.,  ..., 0., 0., 0.],\n",
      "         [0., 0., 0.,  ..., 0., 0., 0.]],\n",
      "\n",
      "        [[0., 0., 0.,  ..., 0., 0., 0.],\n",
      "         [0., 0., 0.,  ..., 0., 0., 0.],\n",
      "         [0., 0., 0.,  ..., 0., 0., 0.],\n",
      "         ...,\n",
      "         [0., 0., 0.,  ..., 0., 0., 0.],\n",
      "         [0., 0., 0.,  ..., 0., 0., 0.],\n",
      "         [0., 0., 0.,  ..., 0., 0., 0.]]]), tensor(10))\n",
      "2\n",
      "(tensor([[[0., 0., 0.,  ..., 0., 0., 0.],\n",
      "         [0., 0., 0.,  ..., 0., 0., 0.],\n",
      "         [0., 0., 0.,  ..., 0., 0., 0.],\n",
      "         ...,\n",
      "         [0., 0., 0.,  ..., 0., 0., 0.],\n",
      "         [0., 0., 0.,  ..., 0., 0., 0.],\n",
      "         [0., 0., 0.,  ..., 0., 0., 0.]],\n",
      "\n",
      "        [[0., 0., 0.,  ..., 0., 0., 0.],\n",
      "         [0., 0., 0.,  ..., 0., 0., 0.],\n",
      "         [0., 0., 0.,  ..., 0., 0., 0.],\n",
      "         ...,\n",
      "         [0., 0., 0.,  ..., 0., 0., 0.],\n",
      "         [0., 0., 0.,  ..., 0., 0., 0.],\n",
      "         [0., 0., 0.,  ..., 0., 0., 0.]],\n",
      "\n",
      "        [[0., 0., 0.,  ..., 0., 0., 0.],\n",
      "         [0., 0., 0.,  ..., 0., 0., 0.],\n",
      "         [0., 0., 0.,  ..., 0., 0., 0.],\n",
      "         ...,\n",
      "         [0., 0., 0.,  ..., 0., 0., 0.],\n",
      "         [0., 0., 0.,  ..., 0., 0., 0.],\n",
      "         [0., 0., 0.,  ..., 0., 0., 0.]],\n",
      "\n",
      "        [[0., 0., 0.,  ..., 0., 0., 0.],\n",
      "         [0., 0., 0.,  ..., 0., 0., 0.],\n",
      "         [0., 0., 0.,  ..., 0., 0., 0.],\n",
      "         ...,\n",
      "         [0., 0., 0.,  ..., 0., 0., 0.],\n",
      "         [0., 0., 0.,  ..., 0., 0., 0.],\n",
      "         [0., 0., 0.,  ..., 0., 0., 0.]]]), tensor(10))\n",
      "2\n",
      "(tensor([[[0., 0., 0.,  ..., 0., 0., 0.],\n",
      "         [0., 0., 0.,  ..., 0., 0., 0.],\n",
      "         [0., 0., 0.,  ..., 0., 0., 0.],\n",
      "         ...,\n",
      "         [0., 0., 0.,  ..., 0., 0., 0.],\n",
      "         [0., 0., 0.,  ..., 0., 0., 0.],\n",
      "         [0., 0., 0.,  ..., 0., 0., 0.]],\n",
      "\n",
      "        [[0., 0., 0.,  ..., 0., 0., 0.],\n",
      "         [0., 0., 0.,  ..., 0., 0., 0.],\n",
      "         [0., 0., 0.,  ..., 0., 0., 0.],\n",
      "         ...,\n",
      "         [0., 0., 0.,  ..., 0., 0., 0.],\n",
      "         [0., 0., 0.,  ..., 0., 0., 0.],\n",
      "         [0., 0., 0.,  ..., 0., 0., 0.]],\n",
      "\n",
      "        [[0., 0., 0.,  ..., 0., 0., 0.],\n",
      "         [0., 0., 0.,  ..., 0., 0., 0.],\n",
      "         [0., 0., 0.,  ..., 0., 0., 0.],\n",
      "         ...,\n",
      "         [0., 0., 0.,  ..., 0., 0., 0.],\n",
      "         [0., 0., 0.,  ..., 0., 0., 0.],\n",
      "         [0., 0., 0.,  ..., 0., 0., 0.]],\n",
      "\n",
      "        [[0., 0., 0.,  ..., 0., 0., 0.],\n",
      "         [0., 0., 0.,  ..., 0., 0., 0.],\n",
      "         [0., 0., 0.,  ..., 0., 0., 0.],\n",
      "         ...,\n",
      "         [0., 0., 0.,  ..., 0., 0., 0.],\n",
      "         [0., 0., 0.,  ..., 0., 0., 0.],\n",
      "         [0., 0., 0.,  ..., 0., 0., 0.]]]), tensor(7))\n",
      "2\n",
      "(tensor([[[0., 0., 0.,  ..., 0., 0., 0.],\n",
      "         [0., 0., 0.,  ..., 0., 0., 0.],\n",
      "         [0., 0., 0.,  ..., 0., 0., 0.],\n",
      "         ...,\n",
      "         [0., 0., 0.,  ..., 0., 0., 0.],\n",
      "         [0., 0., 0.,  ..., 0., 0., 0.],\n",
      "         [0., 0., 0.,  ..., 0., 0., 0.]],\n",
      "\n",
      "        [[0., 0., 0.,  ..., 0., 0., 0.],\n",
      "         [0., 0., 0.,  ..., 0., 0., 0.],\n",
      "         [0., 0., 0.,  ..., 0., 0., 0.],\n",
      "         ...,\n",
      "         [0., 0., 0.,  ..., 0., 0., 0.],\n",
      "         [0., 0., 0.,  ..., 0., 0., 0.],\n",
      "         [0., 0., 0.,  ..., 0., 0., 0.]],\n",
      "\n",
      "        [[0., 0., 0.,  ..., 0., 0., 0.],\n",
      "         [0., 0., 0.,  ..., 0., 0., 0.],\n",
      "         [0., 0., 0.,  ..., 0., 0., 0.],\n",
      "         ...,\n",
      "         [0., 0., 0.,  ..., 0., 0., 0.],\n",
      "         [0., 0., 0.,  ..., 0., 0., 0.],\n",
      "         [0., 0., 0.,  ..., 0., 0., 0.]],\n",
      "\n",
      "        [[0., 0., 0.,  ..., 0., 0., 0.],\n",
      "         [0., 0., 0.,  ..., 0., 0., 0.],\n",
      "         [0., 0., 0.,  ..., 0., 0., 0.],\n",
      "         ...,\n",
      "         [0., 0., 0.,  ..., 0., 0., 0.],\n",
      "         [0., 0., 0.,  ..., 0., 0., 0.],\n",
      "         [0., 0., 0.,  ..., 0., 0., 0.]]]), tensor(7))\n",
      "2\n",
      "(tensor([[[0., 0., 0.,  ..., 0., 0., 0.],\n",
      "         [0., 0., 0.,  ..., 0., 0., 0.],\n",
      "         [0., 0., 0.,  ..., 0., 0., 0.],\n",
      "         ...,\n",
      "         [0., 0., 0.,  ..., 0., 0., 0.],\n",
      "         [0., 0., 0.,  ..., 0., 0., 0.],\n",
      "         [0., 0., 0.,  ..., 0., 0., 0.]],\n",
      "\n",
      "        [[0., 0., 0.,  ..., 0., 0., 0.],\n",
      "         [0., 0., 0.,  ..., 0., 0., 0.],\n",
      "         [0., 0., 0.,  ..., 0., 0., 0.],\n",
      "         ...,\n",
      "         [0., 0., 0.,  ..., 0., 0., 0.],\n",
      "         [0., 0., 0.,  ..., 0., 0., 0.],\n",
      "         [0., 0., 0.,  ..., 0., 0., 0.]],\n",
      "\n",
      "        [[0., 0., 0.,  ..., 0., 0., 0.],\n",
      "         [0., 0., 0.,  ..., 0., 0., 0.],\n",
      "         [0., 0., 0.,  ..., 0., 0., 0.],\n",
      "         ...,\n",
      "         [0., 0., 0.,  ..., 0., 0., 0.],\n",
      "         [0., 0., 0.,  ..., 0., 0., 0.],\n",
      "         [0., 0., 0.,  ..., 0., 0., 0.]],\n",
      "\n",
      "        [[0., 0., 0.,  ..., 0., 0., 0.],\n",
      "         [0., 0., 0.,  ..., 0., 0., 0.],\n",
      "         [0., 0., 0.,  ..., 0., 0., 0.],\n",
      "         ...,\n",
      "         [0., 0., 0.,  ..., 0., 0., 0.],\n",
      "         [0., 0., 0.,  ..., 0., 0., 0.],\n",
      "         [0., 0., 0.,  ..., 0., 0., 0.]]]), tensor(7))\n"
     ]
    },
    {
     "name": "stderr",
     "output_type": "stream",
     "text": [
      "C:\\Users\\te200\\anaconda3\\envs\\pytorch_env\\Lib\\site-packages\\torchvision\\transforms\\functional.py:1603: UserWarning: The default value of the antialias parameter of all the resizing transforms (Resize(), RandomResizedCrop(), etc.) will change from None to True in v0.17, in order to be consistent across the PIL and Tensor backends. To suppress this warning, directly pass antialias=True (recommended, future default), antialias=None (current default, which means False for Tensors and True for PIL), or antialias=False (only works on Tensors - PIL will still use antialiasing). This also applies if you are using the inference transforms from the models weights: update the call to weights.transforms(antialias=True).\n",
      "  warnings.warn(\n"
     ]
    }
   ],
   "source": [
    "for i in range(min(5, dataset_pokemons_total.__len__())):\n",
    "    print(len(dataset_pokemons[i]))\n",
    "    print(dataset_pokemons[i])"
   ]
  },
  {
   "cell_type": "code",
   "execution_count": 287,
   "id": "c3dbb0c1",
   "metadata": {},
   "outputs": [],
   "source": [
    "train_loader_pokemons = torch.utils.data.DataLoader(dataset = dataset_pokemons_total, batch_size = batch_size, shuffle = True)"
   ]
  },
  {
   "cell_type": "code",
   "execution_count": 299,
   "id": "d7a4106e",
   "metadata": {},
   "outputs": [
    {
     "data": {
      "image/png": "[encoded data removed]",
      "text/plain": [
       "<IPython.core.display.Image object>"
      ]
     },
     "execution_count": 299,
     "metadata": {},
     "output_type": "execute_result"
    }
   ],
   "source": [
    "fixed_x, _ = next(iter(train_loader_pokemons))\n",
    "save_image(fixed_x, 'real_image.png')\n",
    "\n",
    "Image('real_image.png')"
   ]
  },
  {
   "cell_type": "code",
   "execution_count": 289,
   "id": "b411f133",
   "metadata": {},
   "outputs": [
    {
     "data": {
      "text/plain": [
       "torch.Size([4, 28, 28])"
      ]
     },
     "execution_count": 289,
     "metadata": {},
     "output_type": "execute_result"
    }
   ],
   "source": [
    "fixed_x.size()"
   ]
  },
  {
   "cell_type": "markdown",
   "id": "12a89da0",
   "metadata": {},
   "source": [
    "#### Как мы можем заметить, картинки загрузились корректно, с 4 каналами, характеризующими их цвет"
   ]
  },
  {
   "cell_type": "code",
   "execution_count": 301,
   "id": "c3290fc5",
   "metadata": {},
   "outputs": [],
   "source": [
    "class VAE_CNN_MULTICHANNELS(nn.Module):\n",
    "\n",
    "    def encoder_fn(self) -> torch.nn:\n",
    "        encoder = nn.Sequential(\n",
    " \n",
    "            nn.Conv2d(4, 16, 4, stride=2),\n",
    "            nn.ReLU(), \n",
    "            nn.Conv2d(16, 32, 4, stride=2),\n",
    "            nn.ReLU(),\n",
    "            nn.Conv2d(32, 64, 4, stride=2),\n",
    "            nn.ReLU(),\n",
    "            Flatten()\n",
    "        )\n",
    "        \n",
    "        return encoder\n",
    "\n",
    "    def decoder_fn(self) -> torch.nn:\n",
    "        \n",
    "        decoder = nn.Sequential(\n",
    "            \n",
    "            UnFlatten(),\n",
    "            nn.ConvTranspose2d(64, 32, kernel_size=5, stride=2),\n",
    "            nn.ReLU(),\n",
    "            nn.ConvTranspose2d(32, 16, kernel_size=5, stride=2),\n",
    "            nn.ReLU(),\n",
    "            nn.ConvTranspose2d(16, 4, kernel_size=4, stride=2),\n",
    "            nn.Sigmoid(),\n",
    "        )\n",
    "        return decoder\n",
    "\n",
    "    def __init__(self, h_dim = 64, z_dim = 28):\n",
    "        super().__init__()\n",
    "        \n",
    "        self.encoder = self.encoder_fn()\n",
    "        self.hid_2mu = nn.Linear(h_dim, z_dim)\n",
    "        self.hid_2sigma = nn.Linear(h_dim, z_dim)\n",
    "        self.z_2hid = nn.Linear(z_dim, h_dim)\n",
    "        self.decoder = self.decoder_fn()\n",
    "    \n",
    "    def reparametrize(self, mu: torch.tensor, sigma: torch.tensor) -> torch.tensor:\n",
    "        std = torch.exp(0.5 * sigma)\n",
    "        eps = torch.rand_like(std)\n",
    "        z = mu + eps*std\n",
    "        return z\n",
    "     \n",
    "    def bottleneck(self, h: torch.tensor) -> tuple:\n",
    "        mu, sigma = self.hid_2mu(h), self.hid_2sigma(h)\n",
    "        z_reparametrized = self.reparametrize(mu, sigma)\n",
    "        return z_reparametrized, mu, sigma\n",
    "    \n",
    "    def encode(self, x: torch.tensor) -> tuple:\n",
    "        h = self.encoder(x)\n",
    "        z, mu, sigma = self.bottleneck(h)\n",
    "        return z, mu, sigma\n",
    "\n",
    "    def decode(self, z: torch.tensor) -> torch.tensor:\n",
    "        z = self.z_2hid(z)\n",
    "        z = self.decoder(z)\n",
    "        return z\n",
    "    \n",
    "    def save_model(self, model: torch.nn):\n",
    "        torch.save(model.state_dict(), \"model_weights.pth\") # сохраняем веса нащей модели в файл \"model_weights.pth\"\n",
    "\n",
    "    def load_model(self) -> torch.nn:\n",
    "        # загружаем веса нащей модели в файл \"model_weights.pth\"\n",
    "        model = TheModelClass(*args, **kwargs) \n",
    "        model.load_state_dict(torch.load(\"model_weights.pth\"))\n",
    "        return model\n",
    "\n",
    "    def forward(self, x: torch.tensor) -> tuple:\n",
    "        z, mu, sigma = self.encode(x)\n",
    "        z = self.decode(z)\n",
    "        return z, mu, sigma"
   ]
  },
  {
   "cell_type": "code",
   "execution_count": 305,
   "id": "12b54ff4",
   "metadata": {},
   "outputs": [],
   "source": [
    "model_cnn3 = VAE_CNN_MULTICHANNELS().to(device)\n",
    "optimizer_cnn3 = torch.optim.Adam(model_cnn3.parameters(), lr=3e-4)\n",
    "num_epochs = 120"
   ]
  },
  {
   "cell_type": "code",
   "execution_count": 303,
   "id": "7e0c1b5e",
   "metadata": {},
   "outputs": [
    {
     "data": {
      "text/html": [
       "Finishing last run (ID:cx9ckrs3) before initializing another..."
      ],
      "text/plain": [
       "<IPython.core.display.HTML object>"
      ]
     },
     "metadata": {},
     "output_type": "display_data"
    },
    {
     "data": {
      "text/html": [
       "<style>\n",
       "    table.wandb td:nth-child(1) { padding: 0 10px; text-align: left ; width: auto;} td:nth-child(2) {text-align: left ; width: 100%}\n",
       "    .wandb-row { display: flex; flex-direction: row; flex-wrap: wrap; justify-content: flex-start; width: 100% }\n",
       "    .wandb-col { display: flex; flex-direction: column; flex-basis: 100%; flex: 1; padding: 10px; }\n",
       "    </style>\n",
       "<div class=\"wandb-row\"><div class=\"wandb-col\"><h3>Run history:</h3><br/><table class=\"wandb\"><tr><td>Loss</td><td>▆▄▄▃▃▃▂▂▂▂▂▂▂▂▂▁▁▁▁▁▁▁▁▁▁▁▁▁▁▁▁▁▁▁▁▁▁▁▁█</td></tr><tr><td>bce</td><td>▆▄▄▃▃▃▂▂▂▂▂▂▂▂▂▁▁▁▁▁▁▁▁▁▁▁▁▁▁▁▁▁▁▁▁▁▁▁▁█</td></tr><tr><td>kld</td><td>▁▄▅▄▆█▄▃▃▃▃▃▃▃▃▃▃▃▂▂▂▂▂▂▂▂▂▂▂▂▂▂▂▂▂▂▂▂▂▁</td></tr></table><br/></div><div class=\"wandb-col\"><h3>Run summary:</h3><br/><table class=\"wandb\"><tr><td>Loss</td><td>87931.76562</td></tr><tr><td>bce</td><td>87929.9375</td></tr><tr><td>kld</td><td>1.83164</td></tr></table><br/></div></div>"
      ],
      "text/plain": [
       "<IPython.core.display.HTML object>"
      ]
     },
     "metadata": {},
     "output_type": "display_data"
    },
    {
     "data": {
      "text/html": [
       " View run <strong style=\"color:#cdcd00\">vague-shape-7</strong> at: <a href='https://wandb.ai/te200228/uncategorized/runs/cx9ckrs3' target=\"_blank\">https://wandb.ai/te200228/uncategorized/runs/cx9ckrs3</a><br/>Synced 6 W&B file(s), 0 media file(s), 0 artifact file(s) and 0 other file(s)"
      ],
      "text/plain": [
       "<IPython.core.display.HTML object>"
      ]
     },
     "metadata": {},
     "output_type": "display_data"
    },
    {
     "data": {
      "text/html": [
       "Find logs at: <code>.\\wandb\\run-20240202_021945-cx9ckrs3\\logs</code>"
      ],
      "text/plain": [
       "<IPython.core.display.HTML object>"
      ]
     },
     "metadata": {},
     "output_type": "display_data"
    },
    {
     "data": {
      "text/html": [
       "Successfully finished last run (ID:cx9ckrs3). Initializing new run:<br/>"
      ],
      "text/plain": [
       "<IPython.core.display.HTML object>"
      ]
     },
     "metadata": {},
     "output_type": "display_data"
    },
    {
     "data": {
      "text/html": [
       "Tracking run with wandb version 0.16.2"
      ],
      "text/plain": [
       "<IPython.core.display.HTML object>"
      ]
     },
     "metadata": {},
     "output_type": "display_data"
    },
    {
     "data": {
      "text/html": [
       "Run data is saved locally in <code>C:\\Users\\te200\\ML\\ML_task2_Kravchenko_Timofey\\wandb\\run-20240202_025259-vaxmnbl9</code>"
      ],
      "text/plain": [
       "<IPython.core.display.HTML object>"
      ]
     },
     "metadata": {},
     "output_type": "display_data"
    },
    {
     "data": {
      "text/html": [
       "Syncing run <strong><a href='https://wandb.ai/te200228/uncategorized/runs/vaxmnbl9' target=\"_blank\">flowing-fire-8</a></strong> to <a href='https://wandb.ai/te200228/uncategorized' target=\"_blank\">Weights & Biases</a> (<a href='https://wandb.me/run' target=\"_blank\">docs</a>)<br/>"
      ],
      "text/plain": [
       "<IPython.core.display.HTML object>"
      ]
     },
     "metadata": {},
     "output_type": "display_data"
    },
    {
     "data": {
      "text/html": [
       " View project at <a href='https://wandb.ai/te200228/uncategorized' target=\"_blank\">https://wandb.ai/te200228/uncategorized</a>"
      ],
      "text/plain": [
       "<IPython.core.display.HTML object>"
      ]
     },
     "metadata": {},
     "output_type": "display_data"
    },
    {
     "data": {
      "text/html": [
       " View run at <a href='https://wandb.ai/te200228/uncategorized/runs/vaxmnbl9' target=\"_blank\">https://wandb.ai/te200228/uncategorized/runs/vaxmnbl9</a>"
      ],
      "text/plain": [
       "<IPython.core.display.HTML object>"
      ]
     },
     "metadata": {},
     "output_type": "display_data"
    },
    {
     "data": {
      "text/html": [
       "<button onClick=\"this.nextSibling.style.display='block';this.style.display='none';\">Display W&B run</button><iframe src='https://wandb.ai/te200228/uncategorized/runs/vaxmnbl9?jupyter=true' style='border:none;width:100%;height:420px;display:none;'></iframe>"
      ],
      "text/plain": [
       "<wandb.sdk.wandb_run.Run at 0x27c19435b10>"
      ]
     },
     "execution_count": 303,
     "metadata": {},
     "output_type": "execute_result"
    }
   ],
   "source": [
    "wandb.init()"
   ]
  },
  {
   "cell_type": "markdown",
   "id": "842b9902",
   "metadata": {},
   "source": [
    "#### Обучаем нашу модель и смотрим на результат"
   ]
  },
  {
   "cell_type": "code",
   "execution_count": 306,
   "id": "7154d8d3",
   "metadata": {},
   "outputs": [
    {
     "name": "stderr",
     "output_type": "stream",
     "text": [
      "23it [00:37,  1.63s/it]\n",
      "23it [00:40,  1.78s/it]\n",
      "23it [00:44,  1.92s/it]\n",
      "23it [00:52,  2.26s/it]\n",
      "23it [00:41,  1.82s/it]\n",
      "23it [00:47,  2.05s/it]\n",
      "23it [00:46,  2.01s/it]\n",
      "23it [00:49,  2.13s/it]\n",
      "23it [00:46,  2.01s/it]\n",
      "23it [00:48,  2.12s/it]\n",
      "23it [01:06,  2.89s/it]\n",
      "23it [00:41,  1.83s/it]\n",
      "23it [00:40,  1.75s/it]\n",
      "23it [00:37,  1.64s/it]\n",
      "23it [00:37,  1.62s/it]\n",
      "23it [00:38,  1.70s/it]\n",
      "23it [00:37,  1.61s/it]\n",
      "23it [00:36,  1.59s/it]\n",
      "23it [00:35,  1.56s/it]\n",
      "23it [00:35,  1.55s/it]\n",
      "23it [00:35,  1.56s/it]\n",
      "23it [00:35,  1.54s/it]\n",
      "23it [00:34,  1.52s/it]\n",
      "23it [00:34,  1.52s/it]\n",
      "23it [00:34,  1.49s/it]\n",
      "23it [00:35,  1.52s/it]\n",
      "23it [00:34,  1.48s/it]\n",
      "23it [00:33,  1.48s/it]\n",
      "23it [00:37,  1.61s/it]\n",
      "23it [00:34,  1.50s/it]\n",
      "23it [00:44,  1.95s/it]\n",
      "23it [00:41,  1.82s/it]\n",
      "23it [00:33,  1.47s/it]\n",
      "23it [00:37,  1.64s/it]\n",
      "23it [00:35,  1.54s/it]\n",
      "23it [00:34,  1.48s/it]\n",
      "23it [00:33,  1.46s/it]\n",
      "23it [00:33,  1.47s/it]\n",
      "23it [00:34,  1.49s/it]\n",
      "23it [00:33,  1.46s/it]\n",
      "23it [00:34,  1.52s/it]\n",
      "23it [00:34,  1.48s/it]\n",
      "23it [00:33,  1.48s/it]\n",
      "23it [00:33,  1.46s/it]\n",
      "23it [00:33,  1.45s/it]\n",
      "23it [00:33,  1.48s/it]\n",
      "23it [00:35,  1.54s/it]\n",
      "23it [00:32,  1.42s/it]\n",
      "23it [00:32,  1.43s/it]\n",
      "23it [00:33,  1.44s/it]\n",
      "23it [00:32,  1.41s/it]\n",
      "23it [00:33,  1.44s/it]\n",
      "23it [00:32,  1.41s/it]\n",
      "23it [00:31,  1.37s/it]\n",
      "23it [00:32,  1.41s/it]\n",
      "23it [00:31,  1.39s/it]\n",
      "23it [00:32,  1.42s/it]\n",
      "23it [00:32,  1.41s/it]\n",
      "23it [00:32,  1.42s/it]\n",
      "23it [00:31,  1.38s/it]\n",
      "23it [00:33,  1.44s/it]\n",
      "23it [00:32,  1.40s/it]\n",
      "23it [00:32,  1.42s/it]\n",
      "23it [00:32,  1.40s/it]\n",
      "23it [00:33,  1.44s/it]\n",
      "23it [00:31,  1.36s/it]\n",
      "23it [00:31,  1.39s/it]\n",
      "23it [00:32,  1.39s/it]\n",
      "23it [00:32,  1.41s/it]\n",
      "23it [00:31,  1.38s/it]\n",
      "23it [00:32,  1.40s/it]\n",
      "23it [00:31,  1.38s/it]\n",
      "23it [00:31,  1.39s/it]\n",
      "23it [00:32,  1.40s/it]\n",
      "23it [00:31,  1.37s/it]\n",
      "23it [00:31,  1.38s/it]\n",
      "23it [00:31,  1.38s/it]\n",
      "23it [00:38,  1.67s/it]\n",
      "23it [00:32,  1.40s/it]\n",
      "23it [00:32,  1.42s/it]\n",
      "23it [00:31,  1.38s/it]\n",
      "23it [00:33,  1.45s/it]\n",
      "23it [00:33,  1.44s/it]\n",
      "23it [00:33,  1.45s/it]\n",
      "23it [00:33,  1.47s/it]\n",
      "23it [00:34,  1.49s/it]\n",
      "23it [00:34,  1.50s/it]\n",
      "23it [00:34,  1.49s/it]\n",
      "23it [00:35,  1.56s/it]\n",
      "23it [00:34,  1.52s/it]\n",
      "23it [00:34,  1.52s/it]\n",
      "23it [00:34,  1.52s/it]\n",
      "23it [00:36,  1.60s/it]\n",
      "23it [00:35,  1.55s/it]\n",
      "23it [00:35,  1.55s/it]\n",
      "23it [00:35,  1.55s/it]\n",
      "23it [00:35,  1.56s/it]\n",
      "23it [00:35,  1.54s/it]\n",
      "23it [00:36,  1.57s/it]\n",
      "23it [00:35,  1.53s/it]\n",
      "23it [00:35,  1.53s/it]\n",
      "23it [00:35,  1.55s/it]\n",
      "23it [00:36,  1.61s/it]\n",
      "23it [00:35,  1.56s/it]\n",
      "23it [00:36,  1.61s/it]\n",
      "23it [00:36,  1.59s/it]\n",
      "23it [00:36,  1.59s/it]\n",
      "23it [00:36,  1.58s/it]\n",
      "23it [00:37,  1.63s/it]\n",
      "23it [00:37,  1.63s/it]\n",
      "23it [00:35,  1.56s/it]\n",
      "23it [00:37,  1.62s/it]\n",
      "23it [00:37,  1.61s/it]\n",
      "23it [00:37,  1.62s/it]\n",
      "23it [00:36,  1.58s/it]\n",
      "23it [00:37,  1.62s/it]\n",
      "23it [00:37,  1.61s/it]\n",
      "23it [00:36,  1.58s/it]\n",
      "23it [00:37,  1.65s/it]\n",
      "23it [00:37,  1.64s/it]\n"
     ]
    }
   ],
   "source": [
    "for epoch in range(num_epochs):\n",
    "    loop = tqdm.tqdm(enumerate(train_loader_pokemons))\n",
    "    for i, (img, _) in loop:\n",
    "        img = img.to(device)\n",
    "        recon_images, mu, sigma = model_cnn3(img)\n",
    "        loss, bce, kld = loss_func(recon_images, img, mu, sigma)\n",
    "        optimizer_cnn3.zero_grad()\n",
    "        loss.backward()\n",
    "        optimizer_cnn3.step()\n",
    "        \n",
    "        wandb.log({\"Loss\": loss, \"bce\": bce, \"kld\": kld})"
   ]
  },
  {
   "cell_type": "code",
   "execution_count": 307,
   "id": "f3fa7785",
   "metadata": {},
   "outputs": [],
   "source": [
    "model_cnn3 = model_cnn3.to(\"cpu\")"
   ]
  },
  {
   "cell_type": "code",
   "execution_count": 334,
   "id": "3f3dc323",
   "metadata": {},
   "outputs": [],
   "source": [
    "model_cnn3.save_model(model_cnn3)"
   ]
  },
  {
   "cell_type": "code",
   "execution_count": 335,
   "id": "228fb327",
   "metadata": {},
   "outputs": [],
   "source": [
    "def compare3(x: torch.tensor) -> torch.tensor:\n",
    "    recon_x, _, _ = model_cnn3(x)\n",
    "    return torch.cat([x, recon_x])"
   ]
  },
  {
   "cell_type": "code",
   "execution_count": 359,
   "id": "fae0379f",
   "metadata": {},
   "outputs": [
    {
     "data": {
      "image/png": "[encoded data removed]",
      "text/plain": [
       "<IPython.core.display.Image object>"
      ]
     },
     "metadata": {
      "image/png": {
       "unconfined": true,
       "width": 700
      }
     },
     "output_type": "display_data"
    }
   ],
   "source": [
    "fixed_x = dataset_pokemons[randint(1, num_epochs)][0].unsqueeze(0).view(1,4,28,28)\n",
    "compare_x3 = compare3(fixed_x)\n",
    "\n",
    "save_image(compare_x3.data.cpu(), 'sample_image.png')\n",
    "display(Image('sample_image.png', width=700, unconfined=True))"
   ]
  },
  {
   "cell_type": "markdown",
   "id": "0e4863c4",
   "metadata": {},
   "source": [
    "#### Как можно заметить, автоэнкодеру удалось воспроизвести очертания покемона, однако сама детализация практически полностью отсутствует. Это связано с тем, что мы используем слишком маленькое разрешение для работы с таким типом картинок"
   ]
  },
  {
   "cell_type": "markdown",
   "id": "857c0fc2",
   "metadata": {},
   "source": [
    "#### Так как мой компьютер умер уже на разрешении 28x28, то предлагаю посмотреть, как мы можем улучшить результат за счет рескейлинга нашего изображений до 64x64: https://colab.research.google.com/drive/1mmTWS7Gjfp1V_PYFWW7Xy4uvncF2Ey7p?usp=sharing"
   ]
  },
  {
   "cell_type": "code",
   "execution_count": null,
   "id": "a881175e-71e8-4a2f-b16e-2fb2b689c051",
   "metadata": {},
   "outputs": [],
   "source": []
  }
 ],
 "metadata": {
  "kernelspec": {
   "display_name": "gradio_ml",
   "language": "python",
   "name": "gradio_ml"
  },
  "language_info": {
   "codemirror_mode": {
    "name": "ipython",
    "version": 3
   },
   "file_extension": ".py",
   "mimetype": "text/x-python",
   "name": "python",
   "nbconvert_exporter": "python",
   "pygments_lexer": "ipython3",
   "version": "3.12.2"
  }
 },
 "nbformat": 4,
 "nbformat_minor": 5
}
